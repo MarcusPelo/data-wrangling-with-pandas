{
 "cells": [
  {
   "cell_type": "markdown",
   "metadata": {},
   "source": [
    "## Criando dimensão tempo"
   ]
  },
  {
   "cell_type": "code",
   "execution_count": 35,
   "metadata": {},
   "outputs": [
    {
     "ename": "AttributeError",
     "evalue": "'function' object has no attribute 'apply'",
     "output_type": "error",
     "traceback": [
      "\u001b[1;31m---------------------------------------------------------------------------\u001b[0m",
      "\u001b[1;31mAttributeError\u001b[0m                            Traceback (most recent call last)",
      "\u001b[1;32mc:\\Users\\Marcus\\gitpelo\\data-wrangling-with-pandas-jupyter\\sql-conn-pandas.ipynb Célula: 1\u001b[0m in \u001b[0;36m<cell line: 24>\u001b[1;34m()\u001b[0m\n\u001b[0;32m     <a href='vscode-notebook-cell:/c%3A/Users/Marcus/gitpelo/data-wrangling-with-pandas-jupyter/sql-conn-pandas.ipynb#ch0000000?line=20'>21</a>\u001b[0m     \u001b[39m#df.set_index(\"date_id\", inplace=True)\u001b[39;00m\n\u001b[0;32m     <a href='vscode-notebook-cell:/c%3A/Users/Marcus/gitpelo/data-wrangling-with-pandas-jupyter/sql-conn-pandas.ipynb#ch0000000?line=21'>22</a>\u001b[0m     \u001b[39mreturn\u001b[39;00m df\n\u001b[1;32m---> <a href='vscode-notebook-cell:/c%3A/Users/Marcus/gitpelo/data-wrangling-with-pandas-jupyter/sql-conn-pandas.ipynb#ch0000000?line=23'>24</a>\u001b[0m create_dim_date()\u001b[39m.\u001b[39mhead(\u001b[39m100\u001b[39m)\n",
      "\u001b[1;32mc:\\Users\\Marcus\\gitpelo\\data-wrangling-with-pandas-jupyter\\sql-conn-pandas.ipynb Célula: 1\u001b[0m in \u001b[0;36mcreate_dim_date\u001b[1;34m(start, end)\u001b[0m\n\u001b[0;32m     <a href='vscode-notebook-cell:/c%3A/Users/Marcus/gitpelo/data-wrangling-with-pandas-jupyter/sql-conn-pandas.ipynb#ch0000000?line=10'>11</a>\u001b[0m df[\u001b[39m\"\u001b[39m\u001b[39mDay_Number\u001b[39m\u001b[39m\"\u001b[39m] \u001b[39m=\u001b[39m df\u001b[39m.\u001b[39mDate\u001b[39m.\u001b[39mdt\u001b[39m.\u001b[39mday\n\u001b[0;32m     <a href='vscode-notebook-cell:/c%3A/Users/Marcus/gitpelo/data-wrangling-with-pandas-jupyter/sql-conn-pandas.ipynb#ch0000000?line=11'>12</a>\u001b[0m df[\u001b[39m\"\u001b[39m\u001b[39mMonth\u001b[39m\u001b[39m\"\u001b[39m] \u001b[39m=\u001b[39m df\u001b[39m.\u001b[39mDate\u001b[39m.\u001b[39mdt\u001b[39m.\u001b[39mmonth_name()\n\u001b[1;32m---> <a href='vscode-notebook-cell:/c%3A/Users/Marcus/gitpelo/data-wrangling-with-pandas-jupyter/sql-conn-pandas.ipynb#ch0000000?line=12'>13</a>\u001b[0m df[\u001b[39m\"\u001b[39m\u001b[39mShort_Month\u001b[39m\u001b[39m\"\u001b[39m] \u001b[39m=\u001b[39m df\u001b[39m.\u001b[39;49mDate\u001b[39m.\u001b[39;49mdt\u001b[39m.\u001b[39;49mmonth_name\u001b[39m.\u001b[39;49mapply(\u001b[39mstr\u001b[39m[:\u001b[39m3\u001b[39m])\n\u001b[0;32m     <a href='vscode-notebook-cell:/c%3A/Users/Marcus/gitpelo/data-wrangling-with-pandas-jupyter/sql-conn-pandas.ipynb#ch0000000?line=13'>14</a>\u001b[0m \u001b[39m#df[\"Short_Month\"] = df['Short_Month'].str[:3]\u001b[39;00m\n\u001b[0;32m     <a href='vscode-notebook-cell:/c%3A/Users/Marcus/gitpelo/data-wrangling-with-pandas-jupyter/sql-conn-pandas.ipynb#ch0000000?line=14'>15</a>\u001b[0m df[\u001b[39m\"\u001b[39m\u001b[39mCalendar_Month_Number\u001b[39m\u001b[39m\"\u001b[39m] \u001b[39m=\u001b[39m df\u001b[39m.\u001b[39mDate\u001b[39m.\u001b[39mdt\u001b[39m.\u001b[39mmonth\n",
      "\u001b[1;31mAttributeError\u001b[0m: 'function' object has no attribute 'apply'"
     ]
    }
   ],
   "source": [
    "import pyodbc as pyo\n",
    "import pandas as pd\n",
    "\n",
    "dtStart = '2005-01-01'\n",
    "dtEnd = '2025-12-31'\n",
    "\n",
    "def create_dim_date(start = dtStart, end  = dtEnd):\n",
    "\n",
    "    df = pd.DataFrame({\"Date\": pd.date_range(start, end)})\n",
    "    df[\"date_id\"]  = df.Date.dt.strftime('%Y%m%d').astype(int)\n",
    "    df[\"Day_Number\"] = df.Date.dt.day\n",
    "    df[\"Month\"] = df.Date.dt.month_name()\n",
    "    df[\"Short_Month\"] = df.Date.dt.month_name()\n",
    "    df[\"Short_Month\"] = df['Short_Month'].str[:3]\n",
    "    df[\"Calendar_Month_Number\"] = df.Date.dt.month\n",
    "    df[\"Calendar_Month_Label\"] = df.Date.dt.year.apply(str) + '-' + df[\"Short_Month\"]\n",
    "    df[\"Calendar_Year\"] = df.Date.dt.year\n",
    "    df[\"Calendar_Year_Label\"] = 'Y' + df.Date.dt.year.apply(str)\n",
    "    df[\"ISO_Week_Number\"] = df.Date.dt.isocalendar().week\n",
    "    df[\"ISO_Day_Name\"] = df.Date.dt.day_name()\n",
    "    #df.set_index(\"date_id\", inplace=True)\n",
    "    return df\n",
    "\n",
    "# create_dim_date().head(100)\n",
    "\n",
    "server = 'localhost'\n",
    "database = 'dbLearning'\n",
    "username = 'sa'\n",
    "password = 'Fastf00d@!'\n",
    "\n",
    "conn = pyo.connect('DRIVER={SQL Server};SERVER='+server+';DATABASE='+database+';UID='+username+';PWD='+ password)\n",
    "cursor = conn.cursor()\n",
    "\n",
    "for index, row in create_dim_date().iterrows():\n",
    "    cursor.execute(\"INSERT INTO staging.Date VALUES (?,?,?,?,?,?,?,?,?,?,?)\",\n",
    "        row.date_id, row.Date, row.Day_Number, row.ISO_Day_Name, row.Month, row.Short_Month, row.Calendar_Month_Number, \n",
    "        row.Calendar_Month_Label, row.Calendar_Year,row.Calendar_Year_Label, row.ISO_Week_Number\n",
    "    )\n",
    "\n",
    "conn.commit()\n",
    "cursor.close()\n",
    "\n",
    "\n",
    "\n",
    "\n",
    "\n",
    "\n",
    "# query = \"SELECT * FROM [WideWorldImporters].[Application].[Countries]\"\n",
    "# df = pd.read_sql(query, conn)\n",
    "# countries = df\n",
    "\n",
    "# countries.head()"
   ]
  },
  {
   "cell_type": "code",
   "execution_count": 22,
   "metadata": {},
   "outputs": [
    {
     "data": {
      "text/plain": [
       "7"
      ]
     },
     "execution_count": 22,
     "metadata": {},
     "output_type": "execute_result"
    }
   ],
   "source": [
    "dtStart = '2022-01-01'\n",
    "dtEnd = '2022-12-31'\n",
    "\n",
    "ts = pd.Timestamp(year = 2009, month = 5, day = 31,\n",
    "                  hour = 4, second = 49, tz = 'Europe/Amsterdam')\n",
    "\n",
    "ts.isocalendar().weekday\n"
   ]
  },
  {
   "cell_type": "code",
   "execution_count": null,
   "metadata": {},
   "outputs": [],
   "source": [
    "\n"
   ]
  }
 ],
 "metadata": {
  "kernelspec": {
   "display_name": "Python 3.9.12 ('base')",
   "language": "python",
   "name": "python3"
  },
  "language_info": {
   "codemirror_mode": {
    "name": "ipython",
    "version": 3
   },
   "file_extension": ".py",
   "mimetype": "text/x-python",
   "name": "python",
   "nbconvert_exporter": "python",
   "pygments_lexer": "ipython3",
   "version": "3.9.12"
  },
  "orig_nbformat": 4,
  "vscode": {
   "interpreter": {
    "hash": "3aed6fdd8168f02e3f1ef7d0269fdd4f9c8ffbd4bf13100fc2ef6dc21ffd90b8"
   }
  }
 },
 "nbformat": 4,
 "nbformat_minor": 2
}
