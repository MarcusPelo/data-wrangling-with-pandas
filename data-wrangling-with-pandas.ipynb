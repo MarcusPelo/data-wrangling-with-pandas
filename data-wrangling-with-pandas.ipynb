{
 "cells": [
  {
   "cell_type": "code",
   "execution_count": null,
   "metadata": {},
   "outputs": [],
   "source": [
    "import pandas as pd\n",
    "\n",
    "google = pd.read_csv('data/google_june_2020.csv', index_col = 0)\n",
    "msft = pd.read_csv('data/msft_june_2020.csv', index_col = 0)\n",
    "amzn = pd.read_csv('data/amzn_june_2020.csv', index_col = 0)\n"
   ]
  },
  {
   "cell_type": "code",
   "execution_count": null,
   "metadata": {},
   "outputs": [],
   "source": [
    "google.info"
   ]
  },
  {
   "cell_type": "code",
   "execution_count": null,
   "metadata": {},
   "outputs": [],
   "source": [
    "google.head(2)"
   ]
  },
  {
   "cell_type": "markdown",
   "metadata": {},
   "source": [
    "### Concatenation of Tidy Data Source"
   ]
  },
  {
   "cell_type": "code",
   "execution_count": null,
   "metadata": {},
   "outputs": [],
   "source": [
    "all_df = pd.DataFrame()\n",
    "all_df = all_df.append([google, msft, amzn])"
   ]
  },
  {
   "cell_type": "code",
   "execution_count": null,
   "metadata": {},
   "outputs": [],
   "source": [
    "all_df.info()\n",
    "all_df.head()"
   ]
  },
  {
   "cell_type": "code",
   "execution_count": null,
   "metadata": {},
   "outputs": [],
   "source": [
    "all_df.reset_index(drop=True, inplace=True)"
   ]
  },
  {
   "cell_type": "markdown",
   "metadata": {},
   "source": [
    "### Concatenation of Tidy Data Source - pd.concat()"
   ]
  },
  {
   "cell_type": "code",
   "execution_count": null,
   "metadata": {},
   "outputs": [],
   "source": [
    "all_df = pd.concat([google, msft, amzn])\n",
    "all_df.reset_index(drop=True, inplace=True)\n",
    "all_df.head()"
   ]
  },
  {
   "cell_type": "code",
   "execution_count": null,
   "metadata": {},
   "outputs": [],
   "source": [
    "all_df.shape"
   ]
  },
  {
   "cell_type": "markdown",
   "metadata": {},
   "source": [
    "### Lecture 4 - Multi-level Indexing"
   ]
  },
  {
   "cell_type": "code",
   "execution_count": null,
   "metadata": {},
   "outputs": [],
   "source": [
    "google = pd.read_csv('data/google_june_2020.csv', index_col = 0)\n",
    "msft = pd.read_csv('data/msft_june_2020.csv', index_col = 0)\n",
    "amzn = pd.read_csv('data/amzn_june_2020.csv', index_col = 0)\n",
    "all_df = pd.concat([google, msft, amzn])\n",
    "all_df.reset_index(drop=True, inplace=True)\n",
    "all_df.head()"
   ]
  },
  {
   "cell_type": "code",
   "execution_count": null,
   "metadata": {},
   "outputs": [],
   "source": [
    "all_df.set_index(['Symbol', 'Date'], inplace=True)"
   ]
  },
  {
   "cell_type": "code",
   "execution_count": null,
   "metadata": {},
   "outputs": [],
   "source": [
    "all_df.head(2)"
   ]
  },
  {
   "cell_type": "code",
   "execution_count": null,
   "metadata": {},
   "outputs": [],
   "source": [
    "all_df.sort_index(inplace=True)\n",
    "all_df.head()"
   ]
  },
  {
   "cell_type": "code",
   "execution_count": null,
   "metadata": {},
   "outputs": [],
   "source": [
    "all_df.loc[('AMZN', '2020-06-01'),:]"
   ]
  },
  {
   "cell_type": "code",
   "execution_count": null,
   "metadata": {},
   "outputs": [],
   "source": [
    "all_df.loc[('AMZN', '2020-06-01'),'Close']"
   ]
  },
  {
   "cell_type": "code",
   "execution_count": null,
   "metadata": {},
   "outputs": [],
   "source": [
    "all_df.index.levels"
   ]
  },
  {
   "cell_type": "code",
   "execution_count": null,
   "metadata": {},
   "outputs": [],
   "source": [
    "all_df.index.levels[0]"
   ]
  },
  {
   "cell_type": "code",
   "execution_count": null,
   "metadata": {},
   "outputs": [],
   "source": [
    "all_df.index.levels[1]"
   ]
  },
  {
   "cell_type": "code",
   "execution_count": null,
   "metadata": {},
   "outputs": [],
   "source": [
    "all_df.loc[(['AMZN','GOOGL'], '2020-06-01'),'Close']"
   ]
  },
  {
   "cell_type": "markdown",
   "metadata": {},
   "source": [
    "### Lecture 5 - Merging Tidy Data"
   ]
  },
  {
   "cell_type": "code",
   "execution_count": null,
   "metadata": {},
   "outputs": [],
   "source": [
    "google = pd.read_csv('data/google_june_2020.csv', index_col = 0)\n",
    "msft = pd.read_csv('data/msft_june_2020.csv', index_col = 0)\n",
    "amzn = pd.read_csv('data/amzn_june_2020.csv', index_col = 0)\n",
    "all_df = pd.concat([google, msft, amzn])\n",
    "all_df.reset_index(drop=True, inplace=True)\n",
    "all_df.head()"
   ]
  },
  {
   "cell_type": "code",
   "execution_count": null,
   "metadata": {},
   "outputs": [],
   "source": [
    "all_df_columns = pd.concat([google, msft, amzn], axis = 1)"
   ]
  },
  {
   "cell_type": "code",
   "execution_count": null,
   "metadata": {},
   "outputs": [],
   "source": [
    "all_df_columns.head()"
   ]
  },
  {
   "cell_type": "code",
   "execution_count": null,
   "metadata": {},
   "outputs": [],
   "source": [
    "pd.concat([google, msft, amzn], axis = 1, verify_integrity=True)"
   ]
  },
  {
   "cell_type": "code",
   "execution_count": null,
   "metadata": {},
   "outputs": [],
   "source": [
    "def new_agg_df(df):\n",
    "    \n",
    "    my_list = []\n",
    "    symbol = df['Symbol'].drop_duplicates().values[0]\n",
    "    df.drop(['Symbol'], axis=1, inplace=True)\n",
    "    df.set_index('Date', inplace=True)\n",
    "    my_list = [symbol+'_'+elem for elem in df.columns]\n",
    "    df.columns = my_list\n",
    "\n",
    "\n",
    "    return df"
   ]
  },
  {
   "cell_type": "code",
   "execution_count": null,
   "metadata": {},
   "outputs": [],
   "source": [
    "amzn_agg = new_agg_df(amzn)\n",
    "msft_agg = new_agg_df(msft)\n",
    "google_agg = new_agg_df(google)"
   ]
  },
  {
   "cell_type": "code",
   "execution_count": null,
   "metadata": {},
   "outputs": [],
   "source": [
    "amzn_agg.head()"
   ]
  },
  {
   "cell_type": "code",
   "execution_count": null,
   "metadata": {},
   "outputs": [],
   "source": [
    "amzn_agg.reset_index().merge(msft_agg.reset_index(), on = 'Date').head()"
   ]
  },
  {
   "cell_type": "code",
   "execution_count": null,
   "metadata": {},
   "outputs": [],
   "source": [
    "amzn_agg.reset_index().merge(msft_agg.reset_index(), left_on = 'Date', right_on = 'Date', how='inner').head()"
   ]
  },
  {
   "cell_type": "code",
   "execution_count": null,
   "metadata": {},
   "outputs": [],
   "source": [
    "all_df_agg = amzn_agg.merge(msft_agg, left_index=True, right_index=True).merge(\n",
    "    google_agg,  left_index=True, right_index=True\n",
    ")\n",
    "\n",
    "all_df_agg.head()"
   ]
  },
  {
   "cell_type": "markdown",
   "metadata": {},
   "source": [
    "### Lecture 6 - Transformation of a Dataset"
   ]
  },
  {
   "cell_type": "code",
   "execution_count": null,
   "metadata": {},
   "outputs": [],
   "source": [
    "google = pd.read_csv('data/google_june_2020.csv', index_col = 0)\n",
    "msft = pd.read_csv('data/msft_june_2020.csv', index_col = 0)\n",
    "amzn = pd.read_csv('data/amzn_june_2020.csv', index_col = 0)\n",
    "all_df = pd.concat([google, msft, amzn])\n",
    "all_df.reset_index(drop=True, inplace=True)\n",
    "all_df.head()"
   ]
  },
  {
   "cell_type": "code",
   "execution_count": null,
   "metadata": {},
   "outputs": [],
   "source": [
    "pivot_clone = all_df.pivot(\n",
    "    index = 'Date',\n",
    "    columns = 'Symbol',\n",
    "    values = 'Close'\n",
    ").sort_index()"
   ]
  },
  {
   "cell_type": "code",
   "execution_count": null,
   "metadata": {},
   "outputs": [],
   "source": [
    "pivot_clone.head()"
   ]
  },
  {
   "cell_type": "code",
   "execution_count": null,
   "metadata": {},
   "outputs": [],
   "source": [
    "pivot_clone_volume = all_df.pivot(\n",
    "    index = 'Date',\n",
    "    columns = 'Symbol',\n",
    "\n",
    ").sort_index()\n",
    "pivot_clone_volume.head()"
   ]
  },
  {
   "cell_type": "code",
   "execution_count": null,
   "metadata": {},
   "outputs": [],
   "source": [
    "another_df = all_df.set_index(['Symbol','Date'])\n",
    "unstacked_df = another_df.unstack(level = 'Symbol')\n",
    "unstacked_df.head()"
   ]
  },
  {
   "cell_type": "code",
   "execution_count": null,
   "metadata": {},
   "outputs": [],
   "source": [
    "unstacked_df.stack(level='Symbol').head()"
   ]
  },
  {
   "cell_type": "code",
   "execution_count": null,
   "metadata": {},
   "outputs": [],
   "source": [
    "stacked_df = unstacked_df.stack(level = 'Symbol')\n",
    "swapped_df = stacked_df.swaplevel('Symbol', 'Date')\n",
    "swapped_df.head()"
   ]
  },
  {
   "cell_type": "code",
   "execution_count": null,
   "metadata": {},
   "outputs": [],
   "source": [
    "swapped_df.sort_index().head()"
   ]
  },
  {
   "cell_type": "markdown",
   "metadata": {},
   "source": [
    "### Melting with Pandas"
   ]
  },
  {
   "cell_type": "code",
   "execution_count": null,
   "metadata": {},
   "outputs": [],
   "source": [
    "all_df.melt(id_vars=['Symbol','Date'])"
   ]
  },
  {
   "cell_type": "markdown",
   "metadata": {},
   "source": [
    "### Aggregating Results with Pandas"
   ]
  },
  {
   "cell_type": "code",
   "execution_count": null,
   "metadata": {},
   "outputs": [],
   "source": [
    "pivot_close = all_df.pivot(\n",
    "    index = 'Date',\n",
    "    columns = 'Symbol',\n",
    "    values = 'Close'\n",
    ").sort_index().reset_index()\n",
    "\n",
    "\n",
    "mean_pivot = pd.DataFrame()\n",
    "mean_pivot['Symbol'] = pivot_close['Symbol'].to_list()\n",
    "mean_pivot['average_price'] = pivot_close.set_index('Symbol').apply(\n",
    "    lambda x: x.mean(), axis = 1\n",
    ").to_list()\n",
    "\n",
    "mean_pivot.set_index('Symbol')\n"
   ]
  },
  {
   "cell_type": "code",
   "execution_count": null,
   "metadata": {},
   "outputs": [],
   "source": []
  }
 ],
 "metadata": {
  "kernelspec": {
   "display_name": "Python 3 (ipykernel)",
   "language": "python",
   "name": "python3"
  },
  "language_info": {
   "codemirror_mode": {
    "name": "ipython",
    "version": 3
   },
   "file_extension": ".py",
   "mimetype": "text/x-python",
   "name": "python",
   "nbconvert_exporter": "python",
   "pygments_lexer": "ipython3",
   "version": "3.9.12"
  },
  "vscode": {
   "interpreter": {
    "hash": "3aed6fdd8168f02e3f1ef7d0269fdd4f9c8ffbd4bf13100fc2ef6dc21ffd90b8"
   }
  }
 },
 "nbformat": 4,
 "nbformat_minor": 4
}
