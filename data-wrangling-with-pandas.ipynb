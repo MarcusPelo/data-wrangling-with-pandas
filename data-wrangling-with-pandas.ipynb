{
 "cells": [
  {
   "cell_type": "code",
   "execution_count": 2,
   "metadata": {},
   "outputs": [],
   "source": [
    "import pandas as pd\n",
    "\n",
    "google = pd.read_csv('data/google_june_2020.csv', index_col = 0)\n",
    "msft = pd.read_csv('data/msft_june_2020.csv', index_col = 0)\n",
    "amzn = pd.read_csv('data/amzn_june_2020.csv', index_col = 0)\n"
   ]
  },
  {
   "cell_type": "code",
   "execution_count": 3,
   "metadata": {},
   "outputs": [
    {
     "data": {
      "text/plain": [
       "<bound method DataFrame.info of           Date        Close   Volume Symbol\n",
       "0   2020-06-01  1434.869995  1258100  GOOGL\n",
       "1   2020-06-02  1442.310059  1172100  GOOGL\n",
       "2   2020-06-03  1439.250000  1386600  GOOGL\n",
       "3   2020-06-04  1414.300049  1349100  GOOGL\n",
       "4   2020-06-05  1440.020020  2132100  GOOGL\n",
       "5   2020-06-08  1448.040039  1693900  GOOGL\n",
       "6   2020-06-09  1452.079956  1681200  GOOGL\n",
       "7   2020-06-10  1464.699951  1588100  GOOGL\n",
       "8   2020-06-11  1401.900024  2357200  GOOGL\n",
       "9   2020-06-12  1412.920044  1832900  GOOGL\n",
       "10  2020-06-15  1420.739990  1523400  GOOGL\n",
       "11  2020-06-16  1446.469971  1532400  GOOGL\n",
       "12  2020-06-17  1452.540039  1528300  GOOGL\n",
       "13  2020-06-18  1434.119995  1743100  GOOGL\n",
       "14  2020-06-19  1424.640015  2639200  GOOGL\n",
       "15  2020-06-22  1450.660034  1472100  GOOGL\n",
       "16  2020-06-23  1463.979980  1887600  GOOGL\n",
       "17  2020-06-24  1432.699951  1579600  GOOGL\n",
       "18  2020-06-25  1441.099976  1197900  GOOGL\n",
       "19  2020-06-26  1362.540039  4882000  GOOGL\n",
       "20  2020-06-29  1397.170044  2253700  GOOGL\n",
       "21  2020-06-30  1418.050049  2014300  GOOGL>"
      ]
     },
     "execution_count": 3,
     "metadata": {},
     "output_type": "execute_result"
    }
   ],
   "source": [
    "google.info"
   ]
  },
  {
   "cell_type": "code",
   "execution_count": null,
   "metadata": {},
   "outputs": [],
   "source": [
    "google.head(2)"
   ]
  },
  {
   "cell_type": "markdown",
   "metadata": {},
   "source": [
    "### Concatenation of Tidy Data Source"
   ]
  },
  {
   "cell_type": "code",
   "execution_count": 4,
   "metadata": {},
   "outputs": [],
   "source": [
    "all_df = pd.DataFrame()\n",
    "all_df = all_df.append([google, msft, amzn])"
   ]
  },
  {
   "cell_type": "code",
   "execution_count": null,
   "metadata": {},
   "outputs": [],
   "source": [
    "all_df.info()\n",
    "all_df.head()"
   ]
  },
  {
   "cell_type": "code",
   "execution_count": null,
   "metadata": {},
   "outputs": [],
   "source": [
    "all_df.reset_index(drop=True, inplace=True)"
   ]
  },
  {
   "cell_type": "markdown",
   "metadata": {},
   "source": [
    "### Concatenation of Tidy Data Source - pd.concat()"
   ]
  },
  {
   "cell_type": "code",
   "execution_count": null,
   "metadata": {},
   "outputs": [],
   "source": [
    "all_df = pd.concat([google, msft, amzn])\n",
    "all_df.reset_index(drop=True, inplace=True)\n",
    "all_df.head()"
   ]
  },
  {
   "cell_type": "code",
   "execution_count": null,
   "metadata": {},
   "outputs": [],
   "source": [
    "all_df.shape"
   ]
  },
  {
   "cell_type": "markdown",
   "metadata": {},
   "source": [
    "### Lecture 4 - Multi-level Indexing"
   ]
  },
  {
   "cell_type": "code",
   "execution_count": null,
   "metadata": {},
   "outputs": [],
   "source": [
    "google = pd.read_csv('data/google_june_2020.csv', index_col = 0)\n",
    "msft = pd.read_csv('data/msft_june_2020.csv', index_col = 0)\n",
    "amzn = pd.read_csv('data/amzn_june_2020.csv', index_col = 0)\n",
    "all_df = pd.concat([google, msft, amzn])\n",
    "all_df.reset_index(drop=True, inplace=True)\n",
    "all_df.head()"
   ]
  },
  {
   "cell_type": "code",
   "execution_count": null,
   "metadata": {},
   "outputs": [],
   "source": [
    "all_df.set_index(['Symbol', 'Date'], inplace=True)"
   ]
  },
  {
   "cell_type": "code",
   "execution_count": null,
   "metadata": {},
   "outputs": [],
   "source": [
    "all_df.head(2)"
   ]
  },
  {
   "cell_type": "code",
   "execution_count": null,
   "metadata": {},
   "outputs": [],
   "source": [
    "all_df.sort_index(inplace=True)\n",
    "all_df.head()"
   ]
  },
  {
   "cell_type": "code",
   "execution_count": null,
   "metadata": {},
   "outputs": [],
   "source": [
    "all_df.loc[('AMZN', '2020-06-01'),:]"
   ]
  },
  {
   "cell_type": "code",
   "execution_count": null,
   "metadata": {},
   "outputs": [],
   "source": [
    "all_df.loc[('AMZN', '2020-06-01'),'Close']"
   ]
  },
  {
   "cell_type": "code",
   "execution_count": null,
   "metadata": {},
   "outputs": [],
   "source": [
    "all_df.index.levels"
   ]
  },
  {
   "cell_type": "code",
   "execution_count": null,
   "metadata": {},
   "outputs": [],
   "source": [
    "all_df.index.levels[0]"
   ]
  },
  {
   "cell_type": "code",
   "execution_count": null,
   "metadata": {},
   "outputs": [],
   "source": [
    "all_df.index.levels[1]"
   ]
  },
  {
   "cell_type": "code",
   "execution_count": null,
   "metadata": {},
   "outputs": [],
   "source": [
    "all_df.loc[(['AMZN','GOOGL'], '2020-06-01'),'Close']"
   ]
  },
  {
   "cell_type": "markdown",
   "metadata": {},
   "source": [
    "### Lecture 5 - Merging Tidy Data"
   ]
  },
  {
   "cell_type": "code",
   "execution_count": null,
   "metadata": {},
   "outputs": [],
   "source": [
    "google = pd.read_csv('data/google_june_2020.csv', index_col = 0)\n",
    "msft = pd.read_csv('data/msft_june_2020.csv', index_col = 0)\n",
    "amzn = pd.read_csv('data/amzn_june_2020.csv', index_col = 0)\n",
    "all_df = pd.concat([google, msft, amzn])\n",
    "all_df.reset_index(drop=True, inplace=True)\n",
    "all_df.head()"
   ]
  },
  {
   "cell_type": "code",
   "execution_count": null,
   "metadata": {},
   "outputs": [],
   "source": [
    "all_df_columns = pd.concat([google, msft, amzn], axis = 1)"
   ]
  },
  {
   "cell_type": "code",
   "execution_count": null,
   "metadata": {},
   "outputs": [],
   "source": [
    "all_df_columns.head()"
   ]
  },
  {
   "cell_type": "code",
   "execution_count": null,
   "metadata": {},
   "outputs": [],
   "source": [
    "pd.concat([google, msft, amzn], axis = 1, verify_integrity=True)"
   ]
  },
  {
   "cell_type": "code",
   "execution_count": null,
   "metadata": {},
   "outputs": [],
   "source": [
    "def new_agg_df(df):\n",
    "    \n",
    "    my_list = []\n",
    "    symbol = df['Symbol'].drop_duplicates().values[0]\n",
    "    df.drop(['Symbol'], axis=1, inplace=True)\n",
    "    df.set_index('Date', inplace=True)\n",
    "    my_list = [symbol+'_'+elem for elem in df.columns]\n",
    "    df.columns = my_list\n",
    "\n",
    "\n",
    "    return df"
   ]
  },
  {
   "cell_type": "code",
   "execution_count": null,
   "metadata": {},
   "outputs": [],
   "source": [
    "amzn_agg = new_agg_df(amzn)\n",
    "msft_agg = new_agg_df(msft)\n",
    "google_agg = new_agg_df(google)"
   ]
  },
  {
   "cell_type": "code",
   "execution_count": null,
   "metadata": {},
   "outputs": [],
   "source": [
    "amzn_agg.head()"
   ]
  },
  {
   "cell_type": "code",
   "execution_count": null,
   "metadata": {},
   "outputs": [],
   "source": [
    "amzn_agg.reset_index().merge(msft_agg.reset_index(), on = 'Date').head()"
   ]
  },
  {
   "cell_type": "code",
   "execution_count": null,
   "metadata": {},
   "outputs": [],
   "source": [
    "amzn_agg.reset_index().merge(msft_agg.reset_index(), left_on = 'Date', right_on = 'Date', how='inner').head()"
   ]
  },
  {
   "cell_type": "code",
   "execution_count": null,
   "metadata": {},
   "outputs": [],
   "source": [
    "all_df_agg = amzn_agg.merge(msft_agg, left_index=True, right_index=True).merge(\n",
    "    google_agg,  left_index=True, right_index=True\n",
    ")\n",
    "\n",
    "all_df_agg.head()"
   ]
  },
  {
   "cell_type": "markdown",
   "metadata": {},
   "source": [
    "### Lecture 6 - Transformation of a Dataset"
   ]
  },
  {
   "cell_type": "code",
   "execution_count": 5,
   "metadata": {},
   "outputs": [
    {
     "data": {
      "text/html": [
       "<div>\n",
       "<style scoped>\n",
       "    .dataframe tbody tr th:only-of-type {\n",
       "        vertical-align: middle;\n",
       "    }\n",
       "\n",
       "    .dataframe tbody tr th {\n",
       "        vertical-align: top;\n",
       "    }\n",
       "\n",
       "    .dataframe thead th {\n",
       "        text-align: right;\n",
       "    }\n",
       "</style>\n",
       "<table border=\"1\" class=\"dataframe\">\n",
       "  <thead>\n",
       "    <tr style=\"text-align: right;\">\n",
       "      <th></th>\n",
       "      <th>Date</th>\n",
       "      <th>Close</th>\n",
       "      <th>Volume</th>\n",
       "      <th>Symbol</th>\n",
       "    </tr>\n",
       "  </thead>\n",
       "  <tbody>\n",
       "    <tr>\n",
       "      <th>0</th>\n",
       "      <td>2020-06-01</td>\n",
       "      <td>1434.869995</td>\n",
       "      <td>1258100</td>\n",
       "      <td>GOOGL</td>\n",
       "    </tr>\n",
       "    <tr>\n",
       "      <th>1</th>\n",
       "      <td>2020-06-02</td>\n",
       "      <td>1442.310059</td>\n",
       "      <td>1172100</td>\n",
       "      <td>GOOGL</td>\n",
       "    </tr>\n",
       "    <tr>\n",
       "      <th>2</th>\n",
       "      <td>2020-06-03</td>\n",
       "      <td>1439.250000</td>\n",
       "      <td>1386600</td>\n",
       "      <td>GOOGL</td>\n",
       "    </tr>\n",
       "    <tr>\n",
       "      <th>3</th>\n",
       "      <td>2020-06-04</td>\n",
       "      <td>1414.300049</td>\n",
       "      <td>1349100</td>\n",
       "      <td>GOOGL</td>\n",
       "    </tr>\n",
       "    <tr>\n",
       "      <th>4</th>\n",
       "      <td>2020-06-05</td>\n",
       "      <td>1440.020020</td>\n",
       "      <td>2132100</td>\n",
       "      <td>GOOGL</td>\n",
       "    </tr>\n",
       "  </tbody>\n",
       "</table>\n",
       "</div>"
      ],
      "text/plain": [
       "         Date        Close   Volume Symbol\n",
       "0  2020-06-01  1434.869995  1258100  GOOGL\n",
       "1  2020-06-02  1442.310059  1172100  GOOGL\n",
       "2  2020-06-03  1439.250000  1386600  GOOGL\n",
       "3  2020-06-04  1414.300049  1349100  GOOGL\n",
       "4  2020-06-05  1440.020020  2132100  GOOGL"
      ]
     },
     "execution_count": 5,
     "metadata": {},
     "output_type": "execute_result"
    }
   ],
   "source": [
    "google = pd.read_csv('data/google_june_2020.csv', index_col = 0)\n",
    "msft = pd.read_csv('data/msft_june_2020.csv', index_col = 0)\n",
    "amzn = pd.read_csv('data/amzn_june_2020.csv', index_col = 0)\n",
    "all_df = pd.concat([google, msft, amzn])\n",
    "all_df.reset_index(drop=True, inplace=True)\n",
    "all_df.head()"
   ]
  },
  {
   "cell_type": "code",
   "execution_count": 6,
   "metadata": {},
   "outputs": [],
   "source": [
    "pivot_clone = all_df.pivot(\n",
    "    index = 'Date',\n",
    "    columns = 'Symbol',\n",
    "    values = 'Close'\n",
    ").sort_index()"
   ]
  },
  {
   "cell_type": "code",
   "execution_count": 7,
   "metadata": {},
   "outputs": [
    {
     "data": {
      "text/html": [
       "<div>\n",
       "<style scoped>\n",
       "    .dataframe tbody tr th:only-of-type {\n",
       "        vertical-align: middle;\n",
       "    }\n",
       "\n",
       "    .dataframe tbody tr th {\n",
       "        vertical-align: top;\n",
       "    }\n",
       "\n",
       "    .dataframe thead th {\n",
       "        text-align: right;\n",
       "    }\n",
       "</style>\n",
       "<table border=\"1\" class=\"dataframe\">\n",
       "  <thead>\n",
       "    <tr style=\"text-align: right;\">\n",
       "      <th>Symbol</th>\n",
       "      <th>AMZN</th>\n",
       "      <th>GOOGL</th>\n",
       "      <th>MSFT</th>\n",
       "    </tr>\n",
       "    <tr>\n",
       "      <th>Date</th>\n",
       "      <th></th>\n",
       "      <th></th>\n",
       "      <th></th>\n",
       "    </tr>\n",
       "  </thead>\n",
       "  <tbody>\n",
       "    <tr>\n",
       "      <th>2020-06-01</th>\n",
       "      <td>2471.040039</td>\n",
       "      <td>1434.869995</td>\n",
       "      <td>182.830002</td>\n",
       "    </tr>\n",
       "    <tr>\n",
       "      <th>2020-06-02</th>\n",
       "      <td>2472.409912</td>\n",
       "      <td>1442.310059</td>\n",
       "      <td>184.910004</td>\n",
       "    </tr>\n",
       "    <tr>\n",
       "      <th>2020-06-03</th>\n",
       "      <td>2478.399902</td>\n",
       "      <td>1439.250000</td>\n",
       "      <td>185.360001</td>\n",
       "    </tr>\n",
       "    <tr>\n",
       "      <th>2020-06-04</th>\n",
       "      <td>2460.600098</td>\n",
       "      <td>1414.300049</td>\n",
       "      <td>182.919998</td>\n",
       "    </tr>\n",
       "    <tr>\n",
       "      <th>2020-06-05</th>\n",
       "      <td>2483.000000</td>\n",
       "      <td>1440.020020</td>\n",
       "      <td>187.199997</td>\n",
       "    </tr>\n",
       "  </tbody>\n",
       "</table>\n",
       "</div>"
      ],
      "text/plain": [
       "Symbol             AMZN        GOOGL        MSFT\n",
       "Date                                            \n",
       "2020-06-01  2471.040039  1434.869995  182.830002\n",
       "2020-06-02  2472.409912  1442.310059  184.910004\n",
       "2020-06-03  2478.399902  1439.250000  185.360001\n",
       "2020-06-04  2460.600098  1414.300049  182.919998\n",
       "2020-06-05  2483.000000  1440.020020  187.199997"
      ]
     },
     "execution_count": 7,
     "metadata": {},
     "output_type": "execute_result"
    }
   ],
   "source": [
    "pivot_clone.head()"
   ]
  },
  {
   "cell_type": "code",
   "execution_count": 8,
   "metadata": {},
   "outputs": [
    {
     "data": {
      "text/html": [
       "<div>\n",
       "<style scoped>\n",
       "    .dataframe tbody tr th:only-of-type {\n",
       "        vertical-align: middle;\n",
       "    }\n",
       "\n",
       "    .dataframe tbody tr th {\n",
       "        vertical-align: top;\n",
       "    }\n",
       "\n",
       "    .dataframe thead tr th {\n",
       "        text-align: left;\n",
       "    }\n",
       "\n",
       "    .dataframe thead tr:last-of-type th {\n",
       "        text-align: right;\n",
       "    }\n",
       "</style>\n",
       "<table border=\"1\" class=\"dataframe\">\n",
       "  <thead>\n",
       "    <tr>\n",
       "      <th></th>\n",
       "      <th colspan=\"3\" halign=\"left\">Close</th>\n",
       "      <th colspan=\"3\" halign=\"left\">Volume</th>\n",
       "    </tr>\n",
       "    <tr>\n",
       "      <th>Symbol</th>\n",
       "      <th>AMZN</th>\n",
       "      <th>GOOGL</th>\n",
       "      <th>MSFT</th>\n",
       "      <th>AMZN</th>\n",
       "      <th>GOOGL</th>\n",
       "      <th>MSFT</th>\n",
       "    </tr>\n",
       "    <tr>\n",
       "      <th>Date</th>\n",
       "      <th></th>\n",
       "      <th></th>\n",
       "      <th></th>\n",
       "      <th></th>\n",
       "      <th></th>\n",
       "      <th></th>\n",
       "    </tr>\n",
       "  </thead>\n",
       "  <tbody>\n",
       "    <tr>\n",
       "      <th>2020-06-01</th>\n",
       "      <td>2471.040039</td>\n",
       "      <td>1434.869995</td>\n",
       "      <td>182.830002</td>\n",
       "      <td>2928900</td>\n",
       "      <td>1258100</td>\n",
       "      <td>22622400</td>\n",
       "    </tr>\n",
       "    <tr>\n",
       "      <th>2020-06-02</th>\n",
       "      <td>2472.409912</td>\n",
       "      <td>1442.310059</td>\n",
       "      <td>184.910004</td>\n",
       "      <td>2529900</td>\n",
       "      <td>1172100</td>\n",
       "      <td>30794600</td>\n",
       "    </tr>\n",
       "    <tr>\n",
       "      <th>2020-06-03</th>\n",
       "      <td>2478.399902</td>\n",
       "      <td>1439.250000</td>\n",
       "      <td>185.360001</td>\n",
       "      <td>2671000</td>\n",
       "      <td>1386600</td>\n",
       "      <td>27311000</td>\n",
       "    </tr>\n",
       "    <tr>\n",
       "      <th>2020-06-04</th>\n",
       "      <td>2460.600098</td>\n",
       "      <td>1414.300049</td>\n",
       "      <td>182.919998</td>\n",
       "      <td>2948700</td>\n",
       "      <td>1349100</td>\n",
       "      <td>28761800</td>\n",
       "    </tr>\n",
       "    <tr>\n",
       "      <th>2020-06-05</th>\n",
       "      <td>2483.000000</td>\n",
       "      <td>1440.020020</td>\n",
       "      <td>187.199997</td>\n",
       "      <td>3306400</td>\n",
       "      <td>2132100</td>\n",
       "      <td>39893600</td>\n",
       "    </tr>\n",
       "  </tbody>\n",
       "</table>\n",
       "</div>"
      ],
      "text/plain": [
       "                  Close                            Volume                   \n",
       "Symbol             AMZN        GOOGL        MSFT     AMZN    GOOGL      MSFT\n",
       "Date                                                                        \n",
       "2020-06-01  2471.040039  1434.869995  182.830002  2928900  1258100  22622400\n",
       "2020-06-02  2472.409912  1442.310059  184.910004  2529900  1172100  30794600\n",
       "2020-06-03  2478.399902  1439.250000  185.360001  2671000  1386600  27311000\n",
       "2020-06-04  2460.600098  1414.300049  182.919998  2948700  1349100  28761800\n",
       "2020-06-05  2483.000000  1440.020020  187.199997  3306400  2132100  39893600"
      ]
     },
     "execution_count": 8,
     "metadata": {},
     "output_type": "execute_result"
    }
   ],
   "source": [
    "pivot_clone_volume = all_df.pivot(\n",
    "    index = 'Date',\n",
    "    columns = 'Symbol',\n",
    "\n",
    ").sort_index()\n",
    "pivot_clone_volume.head()"
   ]
  },
  {
   "cell_type": "code",
   "execution_count": 9,
   "metadata": {},
   "outputs": [
    {
     "data": {
      "text/html": [
       "<div>\n",
       "<style scoped>\n",
       "    .dataframe tbody tr th:only-of-type {\n",
       "        vertical-align: middle;\n",
       "    }\n",
       "\n",
       "    .dataframe tbody tr th {\n",
       "        vertical-align: top;\n",
       "    }\n",
       "\n",
       "    .dataframe thead tr th {\n",
       "        text-align: left;\n",
       "    }\n",
       "\n",
       "    .dataframe thead tr:last-of-type th {\n",
       "        text-align: right;\n",
       "    }\n",
       "</style>\n",
       "<table border=\"1\" class=\"dataframe\">\n",
       "  <thead>\n",
       "    <tr>\n",
       "      <th></th>\n",
       "      <th colspan=\"3\" halign=\"left\">Close</th>\n",
       "      <th colspan=\"3\" halign=\"left\">Volume</th>\n",
       "    </tr>\n",
       "    <tr>\n",
       "      <th>Symbol</th>\n",
       "      <th>AMZN</th>\n",
       "      <th>GOOGL</th>\n",
       "      <th>MSFT</th>\n",
       "      <th>AMZN</th>\n",
       "      <th>GOOGL</th>\n",
       "      <th>MSFT</th>\n",
       "    </tr>\n",
       "    <tr>\n",
       "      <th>Date</th>\n",
       "      <th></th>\n",
       "      <th></th>\n",
       "      <th></th>\n",
       "      <th></th>\n",
       "      <th></th>\n",
       "      <th></th>\n",
       "    </tr>\n",
       "  </thead>\n",
       "  <tbody>\n",
       "    <tr>\n",
       "      <th>2020-06-01</th>\n",
       "      <td>2471.040039</td>\n",
       "      <td>1434.869995</td>\n",
       "      <td>182.830002</td>\n",
       "      <td>2928900</td>\n",
       "      <td>1258100</td>\n",
       "      <td>22622400</td>\n",
       "    </tr>\n",
       "    <tr>\n",
       "      <th>2020-06-02</th>\n",
       "      <td>2472.409912</td>\n",
       "      <td>1442.310059</td>\n",
       "      <td>184.910004</td>\n",
       "      <td>2529900</td>\n",
       "      <td>1172100</td>\n",
       "      <td>30794600</td>\n",
       "    </tr>\n",
       "    <tr>\n",
       "      <th>2020-06-03</th>\n",
       "      <td>2478.399902</td>\n",
       "      <td>1439.250000</td>\n",
       "      <td>185.360001</td>\n",
       "      <td>2671000</td>\n",
       "      <td>1386600</td>\n",
       "      <td>27311000</td>\n",
       "    </tr>\n",
       "    <tr>\n",
       "      <th>2020-06-04</th>\n",
       "      <td>2460.600098</td>\n",
       "      <td>1414.300049</td>\n",
       "      <td>182.919998</td>\n",
       "      <td>2948700</td>\n",
       "      <td>1349100</td>\n",
       "      <td>28761800</td>\n",
       "    </tr>\n",
       "    <tr>\n",
       "      <th>2020-06-05</th>\n",
       "      <td>2483.000000</td>\n",
       "      <td>1440.020020</td>\n",
       "      <td>187.199997</td>\n",
       "      <td>3306400</td>\n",
       "      <td>2132100</td>\n",
       "      <td>39893600</td>\n",
       "    </tr>\n",
       "  </tbody>\n",
       "</table>\n",
       "</div>"
      ],
      "text/plain": [
       "                  Close                            Volume                   \n",
       "Symbol             AMZN        GOOGL        MSFT     AMZN    GOOGL      MSFT\n",
       "Date                                                                        \n",
       "2020-06-01  2471.040039  1434.869995  182.830002  2928900  1258100  22622400\n",
       "2020-06-02  2472.409912  1442.310059  184.910004  2529900  1172100  30794600\n",
       "2020-06-03  2478.399902  1439.250000  185.360001  2671000  1386600  27311000\n",
       "2020-06-04  2460.600098  1414.300049  182.919998  2948700  1349100  28761800\n",
       "2020-06-05  2483.000000  1440.020020  187.199997  3306400  2132100  39893600"
      ]
     },
     "execution_count": 9,
     "metadata": {},
     "output_type": "execute_result"
    }
   ],
   "source": [
    "another_df = all_df.set_index(['Symbol','Date'])\n",
    "unstacked_df = another_df.unstack(level = 'Symbol')\n",
    "unstacked_df.head()"
   ]
  },
  {
   "cell_type": "code",
   "execution_count": 10,
   "metadata": {},
   "outputs": [
    {
     "data": {
      "text/html": [
       "<div>\n",
       "<style scoped>\n",
       "    .dataframe tbody tr th:only-of-type {\n",
       "        vertical-align: middle;\n",
       "    }\n",
       "\n",
       "    .dataframe tbody tr th {\n",
       "        vertical-align: top;\n",
       "    }\n",
       "\n",
       "    .dataframe thead th {\n",
       "        text-align: right;\n",
       "    }\n",
       "</style>\n",
       "<table border=\"1\" class=\"dataframe\">\n",
       "  <thead>\n",
       "    <tr style=\"text-align: right;\">\n",
       "      <th></th>\n",
       "      <th></th>\n",
       "      <th>Close</th>\n",
       "      <th>Volume</th>\n",
       "    </tr>\n",
       "    <tr>\n",
       "      <th>Date</th>\n",
       "      <th>Symbol</th>\n",
       "      <th></th>\n",
       "      <th></th>\n",
       "    </tr>\n",
       "  </thead>\n",
       "  <tbody>\n",
       "    <tr>\n",
       "      <th rowspan=\"3\" valign=\"top\">2020-06-01</th>\n",
       "      <th>AMZN</th>\n",
       "      <td>2471.040039</td>\n",
       "      <td>2928900</td>\n",
       "    </tr>\n",
       "    <tr>\n",
       "      <th>GOOGL</th>\n",
       "      <td>1434.869995</td>\n",
       "      <td>1258100</td>\n",
       "    </tr>\n",
       "    <tr>\n",
       "      <th>MSFT</th>\n",
       "      <td>182.830002</td>\n",
       "      <td>22622400</td>\n",
       "    </tr>\n",
       "    <tr>\n",
       "      <th rowspan=\"2\" valign=\"top\">2020-06-02</th>\n",
       "      <th>AMZN</th>\n",
       "      <td>2472.409912</td>\n",
       "      <td>2529900</td>\n",
       "    </tr>\n",
       "    <tr>\n",
       "      <th>GOOGL</th>\n",
       "      <td>1442.310059</td>\n",
       "      <td>1172100</td>\n",
       "    </tr>\n",
       "  </tbody>\n",
       "</table>\n",
       "</div>"
      ],
      "text/plain": [
       "                         Close    Volume\n",
       "Date       Symbol                       \n",
       "2020-06-01 AMZN    2471.040039   2928900\n",
       "           GOOGL   1434.869995   1258100\n",
       "           MSFT     182.830002  22622400\n",
       "2020-06-02 AMZN    2472.409912   2529900\n",
       "           GOOGL   1442.310059   1172100"
      ]
     },
     "execution_count": 10,
     "metadata": {},
     "output_type": "execute_result"
    }
   ],
   "source": [
    "unstacked_df.stack(level='Symbol').head()"
   ]
  },
  {
   "cell_type": "code",
   "execution_count": 11,
   "metadata": {},
   "outputs": [
    {
     "data": {
      "text/html": [
       "<div>\n",
       "<style scoped>\n",
       "    .dataframe tbody tr th:only-of-type {\n",
       "        vertical-align: middle;\n",
       "    }\n",
       "\n",
       "    .dataframe tbody tr th {\n",
       "        vertical-align: top;\n",
       "    }\n",
       "\n",
       "    .dataframe thead th {\n",
       "        text-align: right;\n",
       "    }\n",
       "</style>\n",
       "<table border=\"1\" class=\"dataframe\">\n",
       "  <thead>\n",
       "    <tr style=\"text-align: right;\">\n",
       "      <th></th>\n",
       "      <th></th>\n",
       "      <th>Close</th>\n",
       "      <th>Volume</th>\n",
       "    </tr>\n",
       "    <tr>\n",
       "      <th>Symbol</th>\n",
       "      <th>Date</th>\n",
       "      <th></th>\n",
       "      <th></th>\n",
       "    </tr>\n",
       "  </thead>\n",
       "  <tbody>\n",
       "    <tr>\n",
       "      <th>AMZN</th>\n",
       "      <th>2020-06-01</th>\n",
       "      <td>2471.040039</td>\n",
       "      <td>2928900</td>\n",
       "    </tr>\n",
       "    <tr>\n",
       "      <th>GOOGL</th>\n",
       "      <th>2020-06-01</th>\n",
       "      <td>1434.869995</td>\n",
       "      <td>1258100</td>\n",
       "    </tr>\n",
       "    <tr>\n",
       "      <th>MSFT</th>\n",
       "      <th>2020-06-01</th>\n",
       "      <td>182.830002</td>\n",
       "      <td>22622400</td>\n",
       "    </tr>\n",
       "    <tr>\n",
       "      <th>AMZN</th>\n",
       "      <th>2020-06-02</th>\n",
       "      <td>2472.409912</td>\n",
       "      <td>2529900</td>\n",
       "    </tr>\n",
       "    <tr>\n",
       "      <th>GOOGL</th>\n",
       "      <th>2020-06-02</th>\n",
       "      <td>1442.310059</td>\n",
       "      <td>1172100</td>\n",
       "    </tr>\n",
       "  </tbody>\n",
       "</table>\n",
       "</div>"
      ],
      "text/plain": [
       "                         Close    Volume\n",
       "Symbol Date                             \n",
       "AMZN   2020-06-01  2471.040039   2928900\n",
       "GOOGL  2020-06-01  1434.869995   1258100\n",
       "MSFT   2020-06-01   182.830002  22622400\n",
       "AMZN   2020-06-02  2472.409912   2529900\n",
       "GOOGL  2020-06-02  1442.310059   1172100"
      ]
     },
     "execution_count": 11,
     "metadata": {},
     "output_type": "execute_result"
    }
   ],
   "source": [
    "stacked_df = unstacked_df.stack(level = 'Symbol')\n",
    "swapped_df = stacked_df.swaplevel('Symbol', 'Date')\n",
    "swapped_df.head()"
   ]
  },
  {
   "cell_type": "code",
   "execution_count": 12,
   "metadata": {},
   "outputs": [
    {
     "data": {
      "text/html": [
       "<div>\n",
       "<style scoped>\n",
       "    .dataframe tbody tr th:only-of-type {\n",
       "        vertical-align: middle;\n",
       "    }\n",
       "\n",
       "    .dataframe tbody tr th {\n",
       "        vertical-align: top;\n",
       "    }\n",
       "\n",
       "    .dataframe thead th {\n",
       "        text-align: right;\n",
       "    }\n",
       "</style>\n",
       "<table border=\"1\" class=\"dataframe\">\n",
       "  <thead>\n",
       "    <tr style=\"text-align: right;\">\n",
       "      <th></th>\n",
       "      <th></th>\n",
       "      <th>Close</th>\n",
       "      <th>Volume</th>\n",
       "    </tr>\n",
       "    <tr>\n",
       "      <th>Symbol</th>\n",
       "      <th>Date</th>\n",
       "      <th></th>\n",
       "      <th></th>\n",
       "    </tr>\n",
       "  </thead>\n",
       "  <tbody>\n",
       "    <tr>\n",
       "      <th rowspan=\"5\" valign=\"top\">AMZN</th>\n",
       "      <th>2020-06-01</th>\n",
       "      <td>2471.040039</td>\n",
       "      <td>2928900</td>\n",
       "    </tr>\n",
       "    <tr>\n",
       "      <th>2020-06-02</th>\n",
       "      <td>2472.409912</td>\n",
       "      <td>2529900</td>\n",
       "    </tr>\n",
       "    <tr>\n",
       "      <th>2020-06-03</th>\n",
       "      <td>2478.399902</td>\n",
       "      <td>2671000</td>\n",
       "    </tr>\n",
       "    <tr>\n",
       "      <th>2020-06-04</th>\n",
       "      <td>2460.600098</td>\n",
       "      <td>2948700</td>\n",
       "    </tr>\n",
       "    <tr>\n",
       "      <th>2020-06-05</th>\n",
       "      <td>2483.000000</td>\n",
       "      <td>3306400</td>\n",
       "    </tr>\n",
       "  </tbody>\n",
       "</table>\n",
       "</div>"
      ],
      "text/plain": [
       "                         Close   Volume\n",
       "Symbol Date                            \n",
       "AMZN   2020-06-01  2471.040039  2928900\n",
       "       2020-06-02  2472.409912  2529900\n",
       "       2020-06-03  2478.399902  2671000\n",
       "       2020-06-04  2460.600098  2948700\n",
       "       2020-06-05  2483.000000  3306400"
      ]
     },
     "execution_count": 12,
     "metadata": {},
     "output_type": "execute_result"
    }
   ],
   "source": [
    "swapped_df.sort_index().head()"
   ]
  },
  {
   "cell_type": "markdown",
   "metadata": {},
   "source": [
    "### Melting with Pandas"
   ]
  },
  {
   "cell_type": "code",
   "execution_count": 40,
   "metadata": {},
   "outputs": [
    {
     "data": {
      "text/html": [
       "<div>\n",
       "<style scoped>\n",
       "    .dataframe tbody tr th:only-of-type {\n",
       "        vertical-align: middle;\n",
       "    }\n",
       "\n",
       "    .dataframe tbody tr th {\n",
       "        vertical-align: top;\n",
       "    }\n",
       "\n",
       "    .dataframe thead th {\n",
       "        text-align: right;\n",
       "    }\n",
       "</style>\n",
       "<table border=\"1\" class=\"dataframe\">\n",
       "  <thead>\n",
       "    <tr style=\"text-align: right;\">\n",
       "      <th></th>\n",
       "      <th>Symbol</th>\n",
       "      <th>Date</th>\n",
       "      <th>variable</th>\n",
       "      <th>value</th>\n",
       "    </tr>\n",
       "  </thead>\n",
       "  <tbody>\n",
       "    <tr>\n",
       "      <th>0</th>\n",
       "      <td>GOOGL</td>\n",
       "      <td>2020-06-01</td>\n",
       "      <td>Close</td>\n",
       "      <td>1.434870e+03</td>\n",
       "    </tr>\n",
       "    <tr>\n",
       "      <th>1</th>\n",
       "      <td>GOOGL</td>\n",
       "      <td>2020-06-02</td>\n",
       "      <td>Close</td>\n",
       "      <td>1.442310e+03</td>\n",
       "    </tr>\n",
       "    <tr>\n",
       "      <th>2</th>\n",
       "      <td>GOOGL</td>\n",
       "      <td>2020-06-03</td>\n",
       "      <td>Close</td>\n",
       "      <td>1.439250e+03</td>\n",
       "    </tr>\n",
       "    <tr>\n",
       "      <th>3</th>\n",
       "      <td>GOOGL</td>\n",
       "      <td>2020-06-04</td>\n",
       "      <td>Close</td>\n",
       "      <td>1.414300e+03</td>\n",
       "    </tr>\n",
       "    <tr>\n",
       "      <th>4</th>\n",
       "      <td>GOOGL</td>\n",
       "      <td>2020-06-05</td>\n",
       "      <td>Close</td>\n",
       "      <td>1.440020e+03</td>\n",
       "    </tr>\n",
       "    <tr>\n",
       "      <th>...</th>\n",
       "      <td>...</td>\n",
       "      <td>...</td>\n",
       "      <td>...</td>\n",
       "      <td>...</td>\n",
       "    </tr>\n",
       "    <tr>\n",
       "      <th>127</th>\n",
       "      <td>AMZN</td>\n",
       "      <td>2020-06-24</td>\n",
       "      <td>Volume</td>\n",
       "      <td>4.526600e+06</td>\n",
       "    </tr>\n",
       "    <tr>\n",
       "      <th>128</th>\n",
       "      <td>AMZN</td>\n",
       "      <td>2020-06-25</td>\n",
       "      <td>Volume</td>\n",
       "      <td>2.968700e+06</td>\n",
       "    </tr>\n",
       "    <tr>\n",
       "      <th>129</th>\n",
       "      <td>AMZN</td>\n",
       "      <td>2020-06-26</td>\n",
       "      <td>Volume</td>\n",
       "      <td>6.500800e+06</td>\n",
       "    </tr>\n",
       "    <tr>\n",
       "      <th>130</th>\n",
       "      <td>AMZN</td>\n",
       "      <td>2020-06-29</td>\n",
       "      <td>Volume</td>\n",
       "      <td>4.223400e+06</td>\n",
       "    </tr>\n",
       "    <tr>\n",
       "      <th>131</th>\n",
       "      <td>AMZN</td>\n",
       "      <td>2020-06-30</td>\n",
       "      <td>Volume</td>\n",
       "      <td>3.769700e+06</td>\n",
       "    </tr>\n",
       "  </tbody>\n",
       "</table>\n",
       "<p>132 rows × 4 columns</p>\n",
       "</div>"
      ],
      "text/plain": [
       "    Symbol        Date variable         value\n",
       "0    GOOGL  2020-06-01    Close  1.434870e+03\n",
       "1    GOOGL  2020-06-02    Close  1.442310e+03\n",
       "2    GOOGL  2020-06-03    Close  1.439250e+03\n",
       "3    GOOGL  2020-06-04    Close  1.414300e+03\n",
       "4    GOOGL  2020-06-05    Close  1.440020e+03\n",
       "..     ...         ...      ...           ...\n",
       "127   AMZN  2020-06-24   Volume  4.526600e+06\n",
       "128   AMZN  2020-06-25   Volume  2.968700e+06\n",
       "129   AMZN  2020-06-26   Volume  6.500800e+06\n",
       "130   AMZN  2020-06-29   Volume  4.223400e+06\n",
       "131   AMZN  2020-06-30   Volume  3.769700e+06\n",
       "\n",
       "[132 rows x 4 columns]"
      ]
     },
     "execution_count": 40,
     "metadata": {},
     "output_type": "execute_result"
    }
   ],
   "source": [
    "all_df.melt(id_vars=['Symbol','Date'])"
   ]
  },
  {
   "cell_type": "markdown",
   "metadata": {},
   "source": [
    "### Aggregating Results with Pandas"
   ]
  },
  {
   "cell_type": "code",
   "execution_count": 48,
   "metadata": {},
   "outputs": [
    {
     "data": {
      "text/html": [
       "<div>\n",
       "<style scoped>\n",
       "    .dataframe tbody tr th:only-of-type {\n",
       "        vertical-align: middle;\n",
       "    }\n",
       "\n",
       "    .dataframe tbody tr th {\n",
       "        vertical-align: top;\n",
       "    }\n",
       "\n",
       "    .dataframe thead th {\n",
       "        text-align: right;\n",
       "    }\n",
       "</style>\n",
       "<table border=\"1\" class=\"dataframe\">\n",
       "  <thead>\n",
       "    <tr style=\"text-align: right;\">\n",
       "      <th></th>\n",
       "      <th>average_price</th>\n",
       "    </tr>\n",
       "    <tr>\n",
       "      <th>Symbol</th>\n",
       "      <th></th>\n",
       "    </tr>\n",
       "  </thead>\n",
       "  <tbody>\n",
       "    <tr>\n",
       "      <th>AMZN</th>\n",
       "      <td>2613.545455</td>\n",
       "    </tr>\n",
       "    <tr>\n",
       "      <th>GOOGL</th>\n",
       "      <td>1431.595465</td>\n",
       "    </tr>\n",
       "    <tr>\n",
       "      <th>MSFT</th>\n",
       "      <td>192.699547</td>\n",
       "    </tr>\n",
       "  </tbody>\n",
       "</table>\n",
       "</div>"
      ],
      "text/plain": [
       "        average_price\n",
       "Symbol               \n",
       "AMZN      2613.545455\n",
       "GOOGL     1431.595465\n",
       "MSFT       192.699547"
      ]
     },
     "execution_count": 48,
     "metadata": {},
     "output_type": "execute_result"
    }
   ],
   "source": [
    "pivot_close = all_df.pivot(\n",
    "    index = 'Symbol',\n",
    "    columns = 'Date',\n",
    "    values = 'Close'\n",
    ").sort_index().reset_index()\n",
    "\n",
    "\n",
    "mean_pivot = pd.DataFrame()\n",
    "\n",
    "mean_pivot['Symbol']=pivot_close['Symbol'].to_list()\n",
    "mean_pivot['average_price'] = pivot_close.set_index('Symbol').apply(\n",
    "    lambda x: x.mean(), axis = 1\n",
    ").to_list()\n",
    "\n",
    "mean_pivot.set_index('Symbol')\n"
   ]
  },
  {
   "cell_type": "code",
   "execution_count": 49,
   "metadata": {},
   "outputs": [
    {
     "data": {
      "text/html": [
       "<div>\n",
       "<style scoped>\n",
       "    .dataframe tbody tr th:only-of-type {\n",
       "        vertical-align: middle;\n",
       "    }\n",
       "\n",
       "    .dataframe tbody tr th {\n",
       "        vertical-align: top;\n",
       "    }\n",
       "\n",
       "    .dataframe thead th {\n",
       "        text-align: right;\n",
       "    }\n",
       "</style>\n",
       "<table border=\"1\" class=\"dataframe\">\n",
       "  <thead>\n",
       "    <tr style=\"text-align: right;\">\n",
       "      <th></th>\n",
       "      <th>Close</th>\n",
       "    </tr>\n",
       "    <tr>\n",
       "      <th>Symbol</th>\n",
       "      <th></th>\n",
       "    </tr>\n",
       "  </thead>\n",
       "  <tbody>\n",
       "    <tr>\n",
       "      <th>AMZN</th>\n",
       "      <td>2613.545455</td>\n",
       "    </tr>\n",
       "    <tr>\n",
       "      <th>GOOGL</th>\n",
       "      <td>1431.595465</td>\n",
       "    </tr>\n",
       "    <tr>\n",
       "      <th>MSFT</th>\n",
       "      <td>192.699547</td>\n",
       "    </tr>\n",
       "  </tbody>\n",
       "</table>\n",
       "</div>"
      ],
      "text/plain": [
       "              Close\n",
       "Symbol             \n",
       "AMZN    2613.545455\n",
       "GOOGL   1431.595465\n",
       "MSFT     192.699547"
      ]
     },
     "execution_count": 49,
     "metadata": {},
     "output_type": "execute_result"
    }
   ],
   "source": [
    "# same result, but with only a few lines of code\n",
    "\n",
    "all_df.pivot_table(\n",
    "    index='Symbol',\n",
    "    values='Close',\n",
    "    aggfunc='mean',\n",
    ")"
   ]
  },
  {
   "cell_type": "code",
   "execution_count": 56,
   "metadata": {},
   "outputs": [
    {
     "data": {
      "text/html": [
       "<div>\n",
       "<style scoped>\n",
       "    .dataframe tbody tr th:only-of-type {\n",
       "        vertical-align: middle;\n",
       "    }\n",
       "\n",
       "    .dataframe tbody tr th {\n",
       "        vertical-align: top;\n",
       "    }\n",
       "\n",
       "    .dataframe thead tr th {\n",
       "        text-align: left;\n",
       "    }\n",
       "\n",
       "    .dataframe thead tr:last-of-type th {\n",
       "        text-align: right;\n",
       "    }\n",
       "</style>\n",
       "<table border=\"1\" class=\"dataframe\">\n",
       "  <thead>\n",
       "    <tr>\n",
       "      <th></th>\n",
       "      <th>mean</th>\n",
       "      <th>median</th>\n",
       "      <th>min</th>\n",
       "      <th>max</th>\n",
       "      <th>std</th>\n",
       "    </tr>\n",
       "    <tr>\n",
       "      <th></th>\n",
       "      <th>Close</th>\n",
       "      <th>Close</th>\n",
       "      <th>Close</th>\n",
       "      <th>Close</th>\n",
       "      <th>Close</th>\n",
       "    </tr>\n",
       "    <tr>\n",
       "      <th>Symbol</th>\n",
       "      <th></th>\n",
       "      <th></th>\n",
       "      <th></th>\n",
       "      <th></th>\n",
       "      <th></th>\n",
       "    </tr>\n",
       "  </thead>\n",
       "  <tbody>\n",
       "    <tr>\n",
       "      <th>AMZN</th>\n",
       "      <td>2613.545455</td>\n",
       "      <td>2628.125000</td>\n",
       "      <td>2460.600098</td>\n",
       "      <td>2764.409912</td>\n",
       "      <td>103.058783</td>\n",
       "    </tr>\n",
       "    <tr>\n",
       "      <th>GOOGL</th>\n",
       "      <td>1431.595465</td>\n",
       "      <td>1437.059998</td>\n",
       "      <td>1362.540039</td>\n",
       "      <td>1464.699951</td>\n",
       "      <td>23.948642</td>\n",
       "    </tr>\n",
       "    <tr>\n",
       "      <th>MSFT</th>\n",
       "      <td>192.699547</td>\n",
       "      <td>193.905006</td>\n",
       "      <td>182.830002</td>\n",
       "      <td>203.509995</td>\n",
       "      <td>6.470116</td>\n",
       "    </tr>\n",
       "  </tbody>\n",
       "</table>\n",
       "</div>"
      ],
      "text/plain": [
       "               mean       median          min          max         std\n",
       "              Close        Close        Close        Close       Close\n",
       "Symbol                                                                \n",
       "AMZN    2613.545455  2628.125000  2460.600098  2764.409912  103.058783\n",
       "GOOGL   1431.595465  1437.059998  1362.540039  1464.699951   23.948642\n",
       "MSFT     192.699547   193.905006   182.830002   203.509995    6.470116"
      ]
     },
     "execution_count": 56,
     "metadata": {},
     "output_type": "execute_result"
    }
   ],
   "source": [
    "# same result, but with only a few lines of code\n",
    "\n",
    "all_df.pivot_table(\n",
    "    index='Symbol',\n",
    "    values='Close',\n",
    "    aggfunc=['mean','median','min','max','std']\n",
    ")"
   ]
  },
  {
   "cell_type": "markdown",
   "metadata": {},
   "source": [
    "### The groupby in Pandas"
   ]
  },
  {
   "cell_type": "code",
   "execution_count": 62,
   "metadata": {},
   "outputs": [
    {
     "data": {
      "text/plain": [
       "Symbol\n",
       "AMZN     2613.545455\n",
       "GOOGL    1431.595465\n",
       "MSFT      192.699547\n",
       "Name: Close, dtype: float64"
      ]
     },
     "execution_count": 62,
     "metadata": {},
     "output_type": "execute_result"
    }
   ],
   "source": [
    "grouped_stocks = all_df.groupby('Symbol')['Close'].mean()\n",
    "grouped_stocks.head()"
   ]
  },
  {
   "cell_type": "code",
   "execution_count": 63,
   "metadata": {},
   "outputs": [
    {
     "data": {
      "text/html": [
       "<div>\n",
       "<style scoped>\n",
       "    .dataframe tbody tr th:only-of-type {\n",
       "        vertical-align: middle;\n",
       "    }\n",
       "\n",
       "    .dataframe tbody tr th {\n",
       "        vertical-align: top;\n",
       "    }\n",
       "\n",
       "    .dataframe thead th {\n",
       "        text-align: right;\n",
       "    }\n",
       "</style>\n",
       "<table border=\"1\" class=\"dataframe\">\n",
       "  <thead>\n",
       "    <tr style=\"text-align: right;\">\n",
       "      <th></th>\n",
       "      <th>Close</th>\n",
       "    </tr>\n",
       "    <tr>\n",
       "      <th>Symbol</th>\n",
       "      <th></th>\n",
       "    </tr>\n",
       "  </thead>\n",
       "  <tbody>\n",
       "    <tr>\n",
       "      <th>AMZN</th>\n",
       "      <td>2613.545455</td>\n",
       "    </tr>\n",
       "    <tr>\n",
       "      <th>GOOGL</th>\n",
       "      <td>1431.595465</td>\n",
       "    </tr>\n",
       "    <tr>\n",
       "      <th>MSFT</th>\n",
       "      <td>192.699547</td>\n",
       "    </tr>\n",
       "  </tbody>\n",
       "</table>\n",
       "</div>"
      ],
      "text/plain": [
       "              Close\n",
       "Symbol             \n",
       "AMZN    2613.545455\n",
       "GOOGL   1431.595465\n",
       "MSFT     192.699547"
      ]
     },
     "execution_count": 63,
     "metadata": {},
     "output_type": "execute_result"
    }
   ],
   "source": [
    "grouped_stocks.to_frame()"
   ]
  },
  {
   "cell_type": "code",
   "execution_count": 65,
   "metadata": {},
   "outputs": [
    {
     "data": {
      "text/html": [
       "<div>\n",
       "<style scoped>\n",
       "    .dataframe tbody tr th:only-of-type {\n",
       "        vertical-align: middle;\n",
       "    }\n",
       "\n",
       "    .dataframe tbody tr th {\n",
       "        vertical-align: top;\n",
       "    }\n",
       "\n",
       "    .dataframe thead th {\n",
       "        text-align: right;\n",
       "    }\n",
       "</style>\n",
       "<table border=\"1\" class=\"dataframe\">\n",
       "  <thead>\n",
       "    <tr style=\"text-align: right;\">\n",
       "      <th></th>\n",
       "      <th>mean</th>\n",
       "      <th>median</th>\n",
       "      <th>max</th>\n",
       "    </tr>\n",
       "    <tr>\n",
       "      <th>Symbol</th>\n",
       "      <th></th>\n",
       "      <th></th>\n",
       "      <th></th>\n",
       "    </tr>\n",
       "  </thead>\n",
       "  <tbody>\n",
       "    <tr>\n",
       "      <th>AMZN</th>\n",
       "      <td>2613.545455</td>\n",
       "      <td>2628.125000</td>\n",
       "      <td>2764.409912</td>\n",
       "    </tr>\n",
       "    <tr>\n",
       "      <th>GOOGL</th>\n",
       "      <td>1431.595465</td>\n",
       "      <td>1437.059998</td>\n",
       "      <td>1464.699951</td>\n",
       "    </tr>\n",
       "    <tr>\n",
       "      <th>MSFT</th>\n",
       "      <td>192.699547</td>\n",
       "      <td>193.905006</td>\n",
       "      <td>203.509995</td>\n",
       "    </tr>\n",
       "  </tbody>\n",
       "</table>\n",
       "</div>"
      ],
      "text/plain": [
       "               mean       median          max\n",
       "Symbol                                       \n",
       "AMZN    2613.545455  2628.125000  2764.409912\n",
       "GOOGL   1431.595465  1437.059998  1464.699951\n",
       "MSFT     192.699547   193.905006   203.509995"
      ]
     },
     "execution_count": 65,
     "metadata": {},
     "output_type": "execute_result"
    }
   ],
   "source": [
    "grouped_stocks = all_df.groupby('Symbol')['Close'].agg(['mean','median', 'max'])\n",
    "grouped_stocks"
   ]
  },
  {
   "cell_type": "code",
   "execution_count": 66,
   "metadata": {},
   "outputs": [
    {
     "data": {
      "text/html": [
       "<div>\n",
       "<style scoped>\n",
       "    .dataframe tbody tr th:only-of-type {\n",
       "        vertical-align: middle;\n",
       "    }\n",
       "\n",
       "    .dataframe tbody tr th {\n",
       "        vertical-align: top;\n",
       "    }\n",
       "\n",
       "    .dataframe thead tr th {\n",
       "        text-align: left;\n",
       "    }\n",
       "\n",
       "    .dataframe thead tr:last-of-type th {\n",
       "        text-align: right;\n",
       "    }\n",
       "</style>\n",
       "<table border=\"1\" class=\"dataframe\">\n",
       "  <thead>\n",
       "    <tr>\n",
       "      <th></th>\n",
       "      <th colspan=\"2\" halign=\"left\">Close</th>\n",
       "      <th>Volume</th>\n",
       "    </tr>\n",
       "    <tr>\n",
       "      <th></th>\n",
       "      <th>median</th>\n",
       "      <th>mean</th>\n",
       "      <th>max</th>\n",
       "    </tr>\n",
       "    <tr>\n",
       "      <th>Symbol</th>\n",
       "      <th></th>\n",
       "      <th></th>\n",
       "      <th></th>\n",
       "    </tr>\n",
       "  </thead>\n",
       "  <tbody>\n",
       "    <tr>\n",
       "      <th>AMZN</th>\n",
       "      <td>2628.125000</td>\n",
       "      <td>2613.545455</td>\n",
       "      <td>6500800</td>\n",
       "    </tr>\n",
       "    <tr>\n",
       "      <th>GOOGL</th>\n",
       "      <td>1437.059998</td>\n",
       "      <td>1431.595465</td>\n",
       "      <td>4882000</td>\n",
       "    </tr>\n",
       "    <tr>\n",
       "      <th>MSFT</th>\n",
       "      <td>193.905006</td>\n",
       "      <td>192.699547</td>\n",
       "      <td>54675800</td>\n",
       "    </tr>\n",
       "  </tbody>\n",
       "</table>\n",
       "</div>"
      ],
      "text/plain": [
       "              Close                 Volume\n",
       "             median         mean       max\n",
       "Symbol                                    \n",
       "AMZN    2628.125000  2613.545455   6500800\n",
       "GOOGL   1437.059998  1431.595465   4882000\n",
       "MSFT     193.905006   192.699547  54675800"
      ]
     },
     "execution_count": 66,
     "metadata": {},
     "output_type": "execute_result"
    }
   ],
   "source": [
    "grouped_stocks = all_df.groupby('Symbol').agg({'Close':['median','mean'],'Volume': ['max']})\n",
    "grouped_stocks"
   ]
  },
  {
   "cell_type": "code",
   "execution_count": null,
   "metadata": {},
   "outputs": [],
   "source": []
  }
 ],
 "metadata": {
  "kernelspec": {
   "display_name": "Python 3 (ipykernel)",
   "language": "python",
   "name": "python3"
  },
  "language_info": {
   "codemirror_mode": {
    "name": "ipython",
    "version": 3
   },
   "file_extension": ".py",
   "mimetype": "text/x-python",
   "name": "python",
   "nbconvert_exporter": "python",
   "pygments_lexer": "ipython3",
   "version": "3.9.12"
  },
  "vscode": {
   "interpreter": {
    "hash": "3aed6fdd8168f02e3f1ef7d0269fdd4f9c8ffbd4bf13100fc2ef6dc21ffd90b8"
   }
  }
 },
 "nbformat": 4,
 "nbformat_minor": 4
}
