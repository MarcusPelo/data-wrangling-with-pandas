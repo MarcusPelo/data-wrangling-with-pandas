{
 "cells": [
  {
   "cell_type": "code",
   "execution_count": 28,
   "metadata": {},
   "outputs": [],
   "source": [
    "import pandas as pd\n",
    "\n",
    "google = pd.read_csv('data/google_june_2020.csv', index_col = 0)\n",
    "msft = pd.read_csv('data/msft_june_2020.csv', index_col = 0)\n",
    "amzn = pd.read_csv('data/amzn_june_2020.csv', index_col = 0)\n"
   ]
  },
  {
   "cell_type": "code",
   "execution_count": null,
   "metadata": {},
   "outputs": [],
   "source": [
    "google.info"
   ]
  },
  {
   "cell_type": "code",
   "execution_count": null,
   "metadata": {},
   "outputs": [],
   "source": [
    "google.head(2)"
   ]
  },
  {
   "cell_type": "markdown",
   "metadata": {},
   "source": [
    "### Concatenation of Tidy Data Source"
   ]
  },
  {
   "cell_type": "code",
   "execution_count": 29,
   "metadata": {},
   "outputs": [],
   "source": [
    "all_df = pd.DataFrame()\n",
    "all_df = all_df.append([google, msft, amzn])"
   ]
  },
  {
   "cell_type": "code",
   "execution_count": 30,
   "metadata": {},
   "outputs": [
    {
     "name": "stdout",
     "output_type": "stream",
     "text": [
      "<class 'pandas.core.frame.DataFrame'>\n",
      "Int64Index: 66 entries, 0 to 21\n",
      "Data columns (total 4 columns):\n",
      " #   Column  Non-Null Count  Dtype  \n",
      "---  ------  --------------  -----  \n",
      " 0   Date    66 non-null     object \n",
      " 1   Close   66 non-null     float64\n",
      " 2   Volume  66 non-null     int64  \n",
      " 3   Symbol  66 non-null     object \n",
      "dtypes: float64(1), int64(1), object(2)\n",
      "memory usage: 2.6+ KB\n"
     ]
    },
    {
     "data": {
      "text/html": [
       "<div>\n",
       "<style scoped>\n",
       "    .dataframe tbody tr th:only-of-type {\n",
       "        vertical-align: middle;\n",
       "    }\n",
       "\n",
       "    .dataframe tbody tr th {\n",
       "        vertical-align: top;\n",
       "    }\n",
       "\n",
       "    .dataframe thead th {\n",
       "        text-align: right;\n",
       "    }\n",
       "</style>\n",
       "<table border=\"1\" class=\"dataframe\">\n",
       "  <thead>\n",
       "    <tr style=\"text-align: right;\">\n",
       "      <th></th>\n",
       "      <th>Date</th>\n",
       "      <th>Close</th>\n",
       "      <th>Volume</th>\n",
       "      <th>Symbol</th>\n",
       "    </tr>\n",
       "  </thead>\n",
       "  <tbody>\n",
       "    <tr>\n",
       "      <th>0</th>\n",
       "      <td>2020-06-01</td>\n",
       "      <td>1434.869995</td>\n",
       "      <td>1258100</td>\n",
       "      <td>GOOGL</td>\n",
       "    </tr>\n",
       "    <tr>\n",
       "      <th>1</th>\n",
       "      <td>2020-06-02</td>\n",
       "      <td>1442.310059</td>\n",
       "      <td>1172100</td>\n",
       "      <td>GOOGL</td>\n",
       "    </tr>\n",
       "    <tr>\n",
       "      <th>2</th>\n",
       "      <td>2020-06-03</td>\n",
       "      <td>1439.250000</td>\n",
       "      <td>1386600</td>\n",
       "      <td>GOOGL</td>\n",
       "    </tr>\n",
       "    <tr>\n",
       "      <th>3</th>\n",
       "      <td>2020-06-04</td>\n",
       "      <td>1414.300049</td>\n",
       "      <td>1349100</td>\n",
       "      <td>GOOGL</td>\n",
       "    </tr>\n",
       "    <tr>\n",
       "      <th>4</th>\n",
       "      <td>2020-06-05</td>\n",
       "      <td>1440.020020</td>\n",
       "      <td>2132100</td>\n",
       "      <td>GOOGL</td>\n",
       "    </tr>\n",
       "  </tbody>\n",
       "</table>\n",
       "</div>"
      ],
      "text/plain": [
       "         Date        Close   Volume Symbol\n",
       "0  2020-06-01  1434.869995  1258100  GOOGL\n",
       "1  2020-06-02  1442.310059  1172100  GOOGL\n",
       "2  2020-06-03  1439.250000  1386600  GOOGL\n",
       "3  2020-06-04  1414.300049  1349100  GOOGL\n",
       "4  2020-06-05  1440.020020  2132100  GOOGL"
      ]
     },
     "execution_count": 30,
     "metadata": {},
     "output_type": "execute_result"
    }
   ],
   "source": [
    "all_df.info()\n",
    "all_df.head()"
   ]
  },
  {
   "cell_type": "code",
   "execution_count": null,
   "metadata": {},
   "outputs": [],
   "source": [
    "all_df.reset_index(drop=True, inplace=True)"
   ]
  },
  {
   "cell_type": "markdown",
   "metadata": {},
   "source": [
    "### Concatenation of Tidy Data Source - pd.concat()"
   ]
  },
  {
   "cell_type": "code",
   "execution_count": null,
   "metadata": {},
   "outputs": [],
   "source": [
    "all_df = pd.concat([google, msft, amzn])\n",
    "all_df.reset_index(drop=True, inplace=True)\n",
    "all_df.head()"
   ]
  },
  {
   "cell_type": "code",
   "execution_count": null,
   "metadata": {},
   "outputs": [],
   "source": [
    "all_df.shape"
   ]
  },
  {
   "cell_type": "markdown",
   "metadata": {},
   "source": [
    "### Lecture 4 - Multi-level Indexing"
   ]
  },
  {
   "cell_type": "code",
   "execution_count": null,
   "metadata": {},
   "outputs": [],
   "source": [
    "google = pd.read_csv('data/google_june_2020.csv', index_col = 0)\n",
    "msft = pd.read_csv('data/msft_june_2020.csv', index_col = 0)\n",
    "amzn = pd.read_csv('data/amzn_june_2020.csv', index_col = 0)\n",
    "all_df = pd.concat([google, msft, amzn])\n",
    "all_df.reset_index(drop=True, inplace=True)\n",
    "all_df.head()"
   ]
  },
  {
   "cell_type": "code",
   "execution_count": null,
   "metadata": {},
   "outputs": [],
   "source": [
    "all_df.set_index(['Symbol', 'Date'], inplace=True)"
   ]
  },
  {
   "cell_type": "code",
   "execution_count": null,
   "metadata": {},
   "outputs": [],
   "source": [
    "all_df.head(2)"
   ]
  },
  {
   "cell_type": "code",
   "execution_count": null,
   "metadata": {},
   "outputs": [],
   "source": [
    "all_df.sort_index(inplace=True)\n",
    "all_df.head()"
   ]
  },
  {
   "cell_type": "code",
   "execution_count": null,
   "metadata": {},
   "outputs": [],
   "source": [
    "all_df.loc[('AMZN', '2020-06-01'),:]"
   ]
  },
  {
   "cell_type": "code",
   "execution_count": null,
   "metadata": {},
   "outputs": [],
   "source": [
    "all_df.loc[('AMZN', '2020-06-01'),'Close']"
   ]
  },
  {
   "cell_type": "code",
   "execution_count": null,
   "metadata": {},
   "outputs": [],
   "source": [
    "all_df.index.levels"
   ]
  },
  {
   "cell_type": "code",
   "execution_count": null,
   "metadata": {},
   "outputs": [],
   "source": [
    "all_df.index.levels[0]"
   ]
  },
  {
   "cell_type": "code",
   "execution_count": null,
   "metadata": {},
   "outputs": [],
   "source": [
    "all_df.index.levels[1]"
   ]
  },
  {
   "cell_type": "code",
   "execution_count": null,
   "metadata": {},
   "outputs": [],
   "source": [
    "all_df.loc[(['AMZN','GOOGL'], '2020-06-01'),'Close']"
   ]
  },
  {
   "cell_type": "markdown",
   "metadata": {},
   "source": [
    "### Lecture 5 - Merging Tidy Data"
   ]
  },
  {
   "cell_type": "code",
   "execution_count": null,
   "metadata": {},
   "outputs": [],
   "source": [
    "google = pd.read_csv('data/google_june_2020.csv', index_col = 0)\n",
    "msft = pd.read_csv('data/msft_june_2020.csv', index_col = 0)\n",
    "amzn = pd.read_csv('data/amzn_june_2020.csv', index_col = 0)\n",
    "all_df = pd.concat([google, msft, amzn])\n",
    "all_df.reset_index(drop=True, inplace=True)\n",
    "all_df.head()"
   ]
  },
  {
   "cell_type": "code",
   "execution_count": null,
   "metadata": {},
   "outputs": [],
   "source": [
    "all_df_columns = pd.concat([google, msft, amzn], axis = 1)"
   ]
  },
  {
   "cell_type": "code",
   "execution_count": null,
   "metadata": {},
   "outputs": [],
   "source": [
    "all_df_columns.head()"
   ]
  },
  {
   "cell_type": "code",
   "execution_count": null,
   "metadata": {},
   "outputs": [],
   "source": [
    "pd.concat([google, msft, amzn], axis = 1, verify_integrity=True)"
   ]
  },
  {
   "cell_type": "code",
   "execution_count": null,
   "metadata": {},
   "outputs": [],
   "source": [
    "def new_agg_df(df):\n",
    "    \n",
    "    my_list = []\n",
    "    symbol = df['Symbol'].drop_duplicates().values[0]\n",
    "    df.drop(['Symbol'], axis=1, inplace=True)\n",
    "    df.set_index('Date', inplace=True)\n",
    "    my_list = [symbol+'_'+elem for elem in df.columns]\n",
    "    df.columns = my_list\n",
    "\n",
    "\n",
    "    return df"
   ]
  },
  {
   "cell_type": "code",
   "execution_count": null,
   "metadata": {},
   "outputs": [],
   "source": [
    "amzn_agg = new_agg_df(amzn)\n",
    "msft_agg = new_agg_df(msft)\n",
    "google_agg = new_agg_df(google)"
   ]
  },
  {
   "cell_type": "code",
   "execution_count": null,
   "metadata": {},
   "outputs": [],
   "source": [
    "amzn_agg.head()"
   ]
  },
  {
   "cell_type": "code",
   "execution_count": null,
   "metadata": {},
   "outputs": [],
   "source": [
    "amzn_agg.reset_index().merge(msft_agg.reset_index(), on = 'Date').head()"
   ]
  },
  {
   "cell_type": "code",
   "execution_count": null,
   "metadata": {},
   "outputs": [],
   "source": [
    "amzn_agg.reset_index().merge(msft_agg.reset_index(), left_on = 'Date', right_on = 'Date', how='inner').head()"
   ]
  },
  {
   "cell_type": "code",
   "execution_count": null,
   "metadata": {},
   "outputs": [],
   "source": [
    "all_df_agg = amzn_agg.merge(msft_agg, left_index=True, right_index=True).merge(\n",
    "    google_agg,  left_index=True, right_index=True\n",
    ")\n",
    "\n",
    "all_df_agg.head()"
   ]
  },
  {
   "cell_type": "markdown",
   "metadata": {},
   "source": [
    "### Lecture 6 - Transformation of a Dataset"
   ]
  },
  {
   "cell_type": "code",
   "execution_count": null,
   "metadata": {},
   "outputs": [],
   "source": [
    "google = pd.read_csv('data/google_june_2020.csv', index_col = 0)\n",
    "msft = pd.read_csv('data/msft_june_2020.csv', index_col = 0)\n",
    "amzn = pd.read_csv('data/amzn_june_2020.csv', index_col = 0)\n",
    "all_df = pd.concat([google, msft, amzn])\n",
    "all_df.reset_index(drop=True, inplace=True)\n",
    "all_df.head()"
   ]
  },
  {
   "cell_type": "code",
   "execution_count": null,
   "metadata": {},
   "outputs": [],
   "source": [
    "pivot_clone = all_df.pivot(\n",
    "    index = 'Date',\n",
    "    columns = 'Symbol',\n",
    "    values = 'Close'\n",
    ").sort_index()"
   ]
  },
  {
   "cell_type": "code",
   "execution_count": null,
   "metadata": {},
   "outputs": [],
   "source": [
    "pivot_clone.head()"
   ]
  },
  {
   "cell_type": "code",
   "execution_count": null,
   "metadata": {},
   "outputs": [],
   "source": [
    "pivot_clone_volume = all_df.pivot(\n",
    "    index = 'Date',\n",
    "    columns = 'Symbol',\n",
    "\n",
    ").sort_index()\n",
    "pivot_clone_volume.head()"
   ]
  },
  {
   "cell_type": "code",
   "execution_count": null,
   "metadata": {},
   "outputs": [],
   "source": [
    "another_df = all_df.set_index(['Symbol','Date'])\n",
    "unstacked_df = another_df.unstack(level = 'Symbol')\n",
    "unstacked_df.head()"
   ]
  },
  {
   "cell_type": "code",
   "execution_count": null,
   "metadata": {},
   "outputs": [],
   "source": [
    "unstacked_df.stack(level='Symbol').head()"
   ]
  },
  {
   "cell_type": "code",
   "execution_count": null,
   "metadata": {},
   "outputs": [],
   "source": [
    "stacked_df = unstacked_df.stack(level = 'Symbol')\n",
    "swapped_df = stacked_df.swaplevel('Symbol', 'Date')\n",
    "swapped_df.head()"
   ]
  },
  {
   "cell_type": "code",
   "execution_count": null,
   "metadata": {},
   "outputs": [],
   "source": [
    "swapped_df.sort_index().head()"
   ]
  },
  {
   "cell_type": "markdown",
   "metadata": {},
   "source": [
    "### Melting with Pandas"
   ]
  },
  {
   "cell_type": "code",
   "execution_count": null,
   "metadata": {},
   "outputs": [],
   "source": [
    "all_df.melt(id_vars=['Symbol','Date'])"
   ]
  },
  {
   "cell_type": "markdown",
   "metadata": {},
   "source": [
    "### Aggregating Results with Pandas"
   ]
  },
  {
   "cell_type": "code",
   "execution_count": null,
   "metadata": {},
   "outputs": [],
   "source": [
    "pivot_close = all_df.pivot(\n",
    "    index = 'Symbol',\n",
    "    columns = 'Date',\n",
    "    values = 'Close'\n",
    ").sort_index().reset_index()\n",
    "\n",
    "\n",
    "mean_pivot = pd.DataFrame()\n",
    "\n",
    "mean_pivot['Symbol']=pivot_close['Symbol'].to_list()\n",
    "mean_pivot['average_price'] = pivot_close.set_index('Symbol').apply(\n",
    "    lambda x: x.mean(), axis = 1\n",
    ").to_list()\n",
    "\n",
    "mean_pivot.set_index('Symbol')\n"
   ]
  },
  {
   "cell_type": "code",
   "execution_count": null,
   "metadata": {},
   "outputs": [],
   "source": [
    "# same result, but with only a few lines of code\n",
    "\n",
    "all_df.pivot_table(\n",
    "    index='Symbol',\n",
    "    values='Close',\n",
    "    aggfunc='mean',\n",
    ")"
   ]
  },
  {
   "cell_type": "code",
   "execution_count": null,
   "metadata": {},
   "outputs": [],
   "source": [
    "# same result, but with only a few lines of code\n",
    "\n",
    "all_df.pivot_table(\n",
    "    index='Symbol',\n",
    "    values='Close',\n",
    "    aggfunc=['mean','median','min','max','std']\n",
    ")"
   ]
  },
  {
   "cell_type": "markdown",
   "metadata": {},
   "source": [
    "### The groupby in Pandas"
   ]
  },
  {
   "cell_type": "code",
   "execution_count": null,
   "metadata": {},
   "outputs": [],
   "source": [
    "grouped_stocks = all_df.groupby('Symbol')['Close'].mean()\n",
    "grouped_stocks.head()"
   ]
  },
  {
   "cell_type": "code",
   "execution_count": null,
   "metadata": {},
   "outputs": [],
   "source": [
    "grouped_stocks.to_frame()"
   ]
  },
  {
   "cell_type": "code",
   "execution_count": null,
   "metadata": {},
   "outputs": [],
   "source": [
    "grouped_stocks = all_df.groupby('Symbol')['Close'].agg(['mean','median', 'max'])\n",
    "grouped_stocks"
   ]
  },
  {
   "cell_type": "code",
   "execution_count": null,
   "metadata": {},
   "outputs": [],
   "source": [
    "grouped_stocks = all_df.groupby('Symbol').agg({'Close':['median','mean'],'Volume': ['max']})\n",
    "grouped_stocks"
   ]
  },
  {
   "cell_type": "markdown",
   "metadata": {},
   "source": [
    "### Lecture 7 - Plotting Results with Pandas"
   ]
  },
  {
   "cell_type": "code",
   "execution_count": null,
   "metadata": {},
   "outputs": [],
   "source": [
    "import matplotlib.pyplot as plt\n",
    "import warnings\n",
    "warnings.simplefilter(action='ignore')"
   ]
  },
  {
   "cell_type": "code",
   "execution_count": null,
   "metadata": {},
   "outputs": [],
   "source": [
    "import pandas as pd \n",
    "\n",
    "google = pd.read_csv('data/google_june_2020.csv', index_col = 0)\n",
    "msft = pd.read_csv('data/msft_june_2020.csv', index_col = 0)\n",
    "amzn = pd.read_csv('data/amzn_june_2020.csv', index_col = 0)\n",
    "all_df = pd.concat([google, msft, amzn])\n",
    "all_df.reset_index(drop=True, inplace=True)\n",
    "\n",
    "pivot_close = all_df.pivot(\n",
    "    index = 'Date',\n",
    "    columns = 'Symbol',\n",
    "    values = 'Close'\n",
    ").sort_index()"
   ]
  },
  {
   "cell_type": "code",
   "execution_count": null,
   "metadata": {},
   "outputs": [],
   "source": [
    "pivot_close.plot()"
   ]
  },
  {
   "cell_type": "code",
   "execution_count": null,
   "metadata": {},
   "outputs": [],
   "source": [
    "def daily_change(row):\n",
    "    return row/row[0]"
   ]
  },
  {
   "cell_type": "code",
   "execution_count": null,
   "metadata": {},
   "outputs": [],
   "source": [
    "new_df = pivot_close.apply(lambda x: daily_change(x))\n",
    "new_df.head()"
   ]
  },
  {
   "cell_type": "code",
   "execution_count": null,
   "metadata": {},
   "outputs": [],
   "source": [
    "new_df.plot()"
   ]
  },
  {
   "cell_type": "code",
   "execution_count": null,
   "metadata": {},
   "outputs": [],
   "source": [
    "def daily_returns(row):\n",
    "    return row.pct_change(1)"
   ]
  },
  {
   "cell_type": "code",
   "execution_count": null,
   "metadata": {},
   "outputs": [],
   "source": [
    "daily_df = pivot_close.apply(lambda x: daily_returns(x))\n",
    "daily_df.head()"
   ]
  },
  {
   "cell_type": "code",
   "execution_count": null,
   "metadata": {},
   "outputs": [],
   "source": [
    "daily_df.plot()"
   ]
  },
  {
   "cell_type": "code",
   "execution_count": null,
   "metadata": {},
   "outputs": [],
   "source": [
    "pivot_volume = all_df.pivot(\n",
    "    index = 'Date',\n",
    "    columns= 'Symbol',\n",
    "    values = 'Volume'\n",
    ").sort_index()"
   ]
  },
  {
   "cell_type": "code",
   "execution_count": null,
   "metadata": {},
   "outputs": [],
   "source": [
    "pivot_volume.plot.area()"
   ]
  },
  {
   "cell_type": "code",
   "execution_count": null,
   "metadata": {},
   "outputs": [],
   "source": [
    "pivot_volume.plot.bar(stacked = True)"
   ]
  },
  {
   "cell_type": "code",
   "execution_count": null,
   "metadata": {},
   "outputs": [],
   "source": []
  }
 ],
 "metadata": {
  "kernelspec": {
   "display_name": "Python 3.9.7 ('base')",
   "language": "python",
   "name": "python3"
  },
  "language_info": {
   "codemirror_mode": {
    "name": "ipython",
    "version": 3
   },
   "file_extension": ".py",
   "mimetype": "text/x-python",
   "name": "python",
   "nbconvert_exporter": "python",
   "pygments_lexer": "ipython3",
   "version": "3.9.7"
  },
  "vscode": {
   "interpreter": {
    "hash": "92b0a270636e524287e67f62d28a7b844134b51ac94af6b763e1ad25f060bbe0"
   }
  }
 },
 "nbformat": 4,
 "nbformat_minor": 4
}
