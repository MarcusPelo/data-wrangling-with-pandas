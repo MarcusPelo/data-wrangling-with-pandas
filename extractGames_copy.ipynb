{
 "cells": [
  {
   "cell_type": "code",
   "execution_count": 1,
   "id": "38767ed4-372f-49d9-8e3e-3975cfad20e2",
   "metadata": {},
   "outputs": [
    {
     "name": "stderr",
     "output_type": "stream",
     "text": [
      "/tmp/ipykernel_3829225/64521089.py:35: FutureWarning: The frame.append method is deprecated and will be removed from pandas in a future version. Use pandas.concat instead.\n",
      "  mediaDF = mediaDF.append(mediaList,ignore_index=True)\n"
     ]
    },
    {
     "name": "stdout",
     "output_type": "stream",
     "text": [
      "+----+---------------------------------------------------------------------------------------------------+\n",
      "|    | parentFolder                                                                                      |\n",
      "|----+---------------------------------------------------------------------------------------------------|\n",
      "|  1 | /mnt/Downloads/Games/Games/Cult_of_the_Lamb-Razor1911                                             |\n",
      "|  2 | /mnt/Downloads/Games/Games/Cursed.to.Golf-FCKDRM                                                  |\n",
      "|  3 | /mnt/Downloads/Games/Games/Destroy_All_Humans_2_Reprobed-FLT                                      |\n",
      "|  4 | /mnt/Downloads/Games/Games/Eastward-CODEX                                                         |\n",
      "|  5 | /mnt/Downloads/Games/Games/Eastward.Update.v1.0.6-CODEX                                           |\n",
      "|  6 | /mnt/Downloads/Games/Games/Eastward.Update.v1.1.0c-CODEX                                          |\n",
      "|  7 | /mnt/Downloads/Games/Games/God_of_War_v1.0.12-Razor1911                                           |\n",
      "|  8 | /mnt/Downloads/Games/Games/Loopmancer_v1.03-FLT                                                   |\n",
      "|  9 | /mnt/Downloads/Games/Games/Mafia_Definitive_Edition_Internal-DINOByTES                            |\n",
      "| 10 | /mnt/Downloads/Games/Games/Marvels_Spider-Man_Remastered-FLT                                      |\n",
      "| 11 | /mnt/Downloads/Games/Games/Nobody_Saves_the_World_Complete-DINOByTES                              |\n",
      "| 12 | /mnt/Downloads/Games/Games/Nobody_Saves_the_World_Complete-DINOByTES/din-cnstwcomplete            |\n",
      "| 13 | /mnt/Downloads/Games/Games/Nobody_Saves_the_World_Complete-DINOByTES/din-cnstwcomplete/dlc        |\n",
      "| 14 | /mnt/Downloads/Games/Games/Nobody_Saves_the_World_Complete-DINOByTES/din-cnstwcomplete/soundtrack |\n",
      "| 15 | /mnt/Downloads/Games/Games/Return_to_Monkey_Island-Razor1911                                      |\n",
      "| 16 | /mnt/Downloads/Games/Games/Return_to_Monkey_Island_Crackfix-Razor1911                             |\n",
      "| 17 | /mnt/Downloads/Games/Games/Stray-Razor1911                                                        |\n",
      "| 18 | /mnt/Downloads/Games/Games/TUNIC_v20220422-Razor1911                                              |\n",
      "| 19 | /mnt/Downloads/Games/Games/Teenage_Mutant_Ninja_Turtles_Shredders_Revenge-Razor1911               |\n",
      "| 20 | /mnt/Downloads/Games/Games/marvels_spiderman_remastered                                           |\n",
      "+----+---------------------------------------------------------------------------------------------------+\n",
      "Qual pasta deseja acessar? \n",
      "\n"
     ]
    },
    {
     "ename": "ValueError",
     "evalue": "invalid literal for int() with base 10: ''",
     "output_type": "error",
     "traceback": [
      "\u001b[0;31m---------------------------------------------------------------------------\u001b[0m",
      "\u001b[0;31mValueError\u001b[0m                                Traceback (most recent call last)",
      "Input \u001b[0;32mIn [1]\u001b[0m, in \u001b[0;36m<cell line: 55>\u001b[0;34m()\u001b[0m\n\u001b[1;32m     50\u001b[0m \u001b[38;5;28mprint\u001b[39m(tabulate(mediaFolder, headers \u001b[38;5;241m=\u001b[39m \u001b[38;5;124m'\u001b[39m\u001b[38;5;124mkeys\u001b[39m\u001b[38;5;124m'\u001b[39m, tablefmt \u001b[38;5;241m=\u001b[39m \u001b[38;5;124m'\u001b[39m\u001b[38;5;124mpsql\u001b[39m\u001b[38;5;124m'\u001b[39m))\n\u001b[1;32m     52\u001b[0m key \u001b[38;5;241m=\u001b[39m \u001b[38;5;28minput\u001b[39m(\u001b[38;5;124m\"\u001b[39m\u001b[38;5;124mQual pasta deseja acessar? \u001b[39m\u001b[38;5;130;01m\\n\u001b[39;00m\u001b[38;5;124m\"\u001b[39m)\n\u001b[0;32m---> 55\u001b[0m folderName \u001b[38;5;241m=\u001b[39m mediaFolder\u001b[38;5;241m.\u001b[39miloc[\u001b[38;5;28;43mint\u001b[39;49m\u001b[43m(\u001b[49m\u001b[43mkey\u001b[49m\u001b[43m)\u001b[49m\u001b[38;5;241m-\u001b[39m\u001b[38;5;241m1\u001b[39m][\u001b[38;5;241m0\u001b[39m]\n\u001b[1;32m     57\u001b[0m mediaDF_val \u001b[38;5;241m=\u001b[39m mediaDF[mediaDF\u001b[38;5;241m.\u001b[39mparentFolder\u001b[38;5;241m.\u001b[39meq(folderName)]\n\u001b[1;32m     58\u001b[0m mediaDF_val \u001b[38;5;241m=\u001b[39m mediaDF_val\u001b[38;5;241m.\u001b[39msort_values(by\u001b[38;5;241m=\u001b[39m\u001b[38;5;124m'\u001b[39m\u001b[38;5;124mflgDelete\u001b[39m\u001b[38;5;124m'\u001b[39m)\n",
      "\u001b[0;31mValueError\u001b[0m: invalid literal for int() with base 10: ''"
     ]
    }
   ],
   "source": [
    "import pandas as pd\n",
    "import os\n",
    "import patoolib as ptl\n",
    "import numpy as np\n",
    "from tabulate import tabulate\n",
    "\n",
    "mediaPath = '/mnt/Downloads/Games/Games'\n",
    "mediaType = 2 #input(\"Qual tipo de media deseja analisar?\\n1. TV \\n2. Files\")\n",
    "mediaDF = pd.DataFrame()\n",
    "mediaFolder = pd.DataFrame()\n",
    "mediaDict = {}\n",
    "mediaList = [['0','0','0']]\n",
    "mediaFolderList = []\n",
    "c = 1\n",
    "\n",
    "# function to get unique values\n",
    "def unique(list1):\n",
    "    x = np.array(list1)\n",
    "    print(np.unique(x))\n",
    "\n",
    "# if int(mediaType) == 2:\n",
    "#     mediaPath = mediaPath + \"tv\"\n",
    "\n",
    "for root, directories, files in os.walk(mediaPath, topdown=False):\n",
    "    for name in files:\n",
    "        if name.endswith('.rar') == True: \n",
    "            flg = 0 \n",
    "        else:\n",
    "            flg = 1\n",
    "        mediaList.insert(c,[root, name, flg])\n",
    "        c = c + 1\n",
    "\n",
    "\n",
    "# Convertendo lista em dataframe\n",
    "mediaDF = mediaDF.append(mediaList,ignore_index=True)\n",
    "\n",
    "# add colunas ao df      \n",
    "mediaDF.columns = ['parentFolder', 'fileName', 'flgDelete']\n",
    "\n",
    "\n",
    "\n",
    "mediaFolder = pd.DataFrame(mediaDF.parentFolder.unique())\n",
    "mediaFolder.columns = ['parentFolder']\n",
    "mediaFolder = mediaFolder.drop([0])\n",
    "\n",
    "mediaFolder = mediaFolder.sort_values(by=['parentFolder'])\n",
    "mediaFolder = mediaFolder.reset_index(drop=True).drop([0])\n",
    "\n",
    "# displaying the DataFrame\n",
    "print(tabulate(mediaFolder, headers = 'keys', tablefmt = 'psql'))\n",
    "\n",
    "key = input(\"Qual pasta deseja acessar? \\n\")\n",
    "\n",
    "\n",
    "folderName = mediaFolder.iloc[int(key)-1][0]\n",
    "\n",
    "mediaDF_val = mediaDF[mediaDF.parentFolder.eq(folderName)]\n",
    "mediaDF_val = mediaDF_val.sort_values(by='flgDelete')\n",
    "mediaDF_val = mediaDF_val.reset_index(drop=True)\n",
    "mediaDF_val = mediaDF_val[mediaDF_val.flgDelete.eq(0)]\n",
    "\n",
    "print(tabulate(mediaDF_val, headers = 'keys', tablefmt = 'psql'))\n",
    "\n",
    "x = input(\"Deseja continuar com a extração? S ou N\")\n",
    "\n",
    "if x.lower() == \"s\":\n",
    "    for ind in mediaDF_val.index:\n",
    "        file = mediaDF_val['parentFolder'][ind] + '/' + mediaDF_val['fileName'][ind]\n",
    "        print(\"Extracting file \" + mediaDF_val['parentFolder'][ind] + '/' + mediaDF_val['fileName'][ind])\n",
    "        ptl.extract_archive(file, outdir=mediaDF_val['parentFolder'][ind])\n",
    "        print(\"End of extraction\")\n",
    "        # print(mediaDF_rar['parentFolder'][ind], mediaDF_rar['fileName'][ind])\n",
    "        "
   ]
  },
  {
   "cell_type": "code",
   "execution_count": null,
   "id": "8e68071b",
   "metadata": {},
   "outputs": [],
   "source": []
  },
  {
   "cell_type": "markdown",
   "id": "b4fc0728",
   "metadata": {},
   "source": []
  },
  {
   "cell_type": "code",
   "execution_count": null,
   "id": "b31688fa",
   "metadata": {},
   "outputs": [],
   "source": []
  },
  {
   "cell_type": "code",
   "execution_count": null,
   "id": "25bc8f3e",
   "metadata": {},
   "outputs": [],
   "source": [
    "3"
   ]
  }
 ],
 "metadata": {
  "kernelspec": {
   "display_name": "Python 3 (ipykernel)",
   "language": "python",
   "name": "python3"
  },
  "language_info": {
   "codemirror_mode": {
    "name": "ipython",
    "version": 3
   },
   "file_extension": ".py",
   "mimetype": "text/x-python",
   "name": "python",
   "nbconvert_exporter": "python",
   "pygments_lexer": "ipython3",
   "version": "3.9.12"
  },
  "vscode": {
   "interpreter": {
    "hash": "b0fa6594d8f4cbf19f97940f81e996739fb7646882a419484c72d19e05852a7e"
   }
  }
 },
 "nbformat": 4,
 "nbformat_minor": 5
}
