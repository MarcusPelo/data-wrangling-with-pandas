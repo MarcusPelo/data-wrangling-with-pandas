{
 "cells": [
  {
   "cell_type": "code",
   "execution_count": 158,
   "id": "38767ed4-372f-49d9-8e3e-3975cfad20e2",
   "metadata": {},
   "outputs": [
    {
     "name": "stderr",
     "output_type": "stream",
     "text": [
      "/tmp/ipykernel_587267/64521089.py:35: FutureWarning: The frame.append method is deprecated and will be removed from pandas in a future version. Use pandas.concat instead.\n",
      "  mediaDF = mediaDF.append(mediaList,ignore_index=True)\n"
     ]
    },
    {
     "name": "stdout",
     "output_type": "stream",
     "text": [
      "+----+-------------------------------------------------------------------------------------+\n",
      "|    | parentFolder                                                                        |\n",
      "|----+-------------------------------------------------------------------------------------|\n",
      "|  1 | /mnt/Downloads/Games/Games/Cult_of_the_Lamb-Razor1911                               |\n",
      "|  2 | /mnt/Downloads/Games/Games/Cursed.to.Golf-FCKDRM                                    |\n",
      "|  3 | /mnt/Downloads/Games/Games/God_of_War_v1.0.12-Razor1911                             |\n",
      "|  4 | /mnt/Downloads/Games/Games/Mafia_Definitive_Edition_Internal-DINOByTES              |\n",
      "|  5 | /mnt/Downloads/Games/Games/Stray-Razor1911                                          |\n",
      "|  6 | /mnt/Downloads/Games/Games/Teenage_Mutant_Ninja_Turtles_Shredders_Revenge-Razor1911 |\n",
      "+----+-------------------------------------------------------------------------------------+\n",
      "+----+-------------------------------------------------------------------------------------+--------------+-------------+\n",
      "|    | parentFolder                                                                        | fileName     |   flgDelete |\n",
      "|----+-------------------------------------------------------------------------------------+--------------+-------------|\n",
      "|  0 | /mnt/Downloads/Games/Games/Teenage_Mutant_Ninja_Turtles_Shredders_Revenge-Razor1911 | rzr-tmnt.rar |           0 |\n",
      "+----+-------------------------------------------------------------------------------------+--------------+-------------+\n",
      "Extracting file /mnt/Downloads/Games/Games/Teenage_Mutant_Ninja_Turtles_Shredders_Revenge-Razor1911/rzr-tmnt.rar\n",
      "patool: Extracting /mnt/Downloads/Games/Games/Teenage_Mutant_Ninja_Turtles_Shredders_Revenge-Razor1911/rzr-tmnt.rar ...\n",
      "patool: running /usr/bin/rar x -- /mnt/Downloads/Games/Games/Teenage_Mutant_Ninja_Turtles_Shredders_Revenge-Razor1911/rzr-tmnt.rar\n",
      "patool:     with cwd='/mnt/Downloads/Games/Games/Teenage_Mutant_Ninja_Turtles_Shredders_Revenge-Razor1911'\n",
      "patool: ... /mnt/Downloads/Games/Games/Teenage_Mutant_Ninja_Turtles_Shredders_Revenge-Razor1911/rzr-tmnt.rar extracted to `/mnt/Downloads/Games/Games/Teenage_Mutant_Ninja_Turtles_Shredders_Revenge-Razor1911'.\n",
      "End of extraction\n"
     ]
    },
    {
     "name": "stderr",
     "output_type": "stream",
     "text": [
      "\n",
      "WARNING: Cannot change attributes of rzr-tmnt.iso"
     ]
    }
   ],
   "source": [
    "import pandas as pd\n",
    "import os\n",
    "import patoolib as ptl\n",
    "import numpy as np\n",
    "from tabulate import tabulate\n",
    "\n",
    "mediaPath = '/mnt/Downloads/Games/Games'\n",
    "mediaType = 2 #input(\"Qual tipo de media deseja analisar?\\n1. TV \\n2. Files\")\n",
    "mediaDF = pd.DataFrame()\n",
    "mediaFolder = pd.DataFrame()\n",
    "mediaDict = {}\n",
    "mediaList = [['0','0','0']]\n",
    "mediaFolderList = []\n",
    "c = 1\n",
    "\n",
    "# function to get unique values\n",
    "def unique(list1):\n",
    "    x = np.array(list1)\n",
    "    print(np.unique(x))\n",
    "\n",
    "# if int(mediaType) == 2:\n",
    "#     mediaPath = mediaPath + \"tv\"\n",
    "\n",
    "for root, directories, files in os.walk(mediaPath, topdown=False):\n",
    "    for name in files:\n",
    "        if name.endswith('.rar') == True: \n",
    "            flg = 0 \n",
    "        else:\n",
    "            flg = 1\n",
    "        mediaList.insert(c,[root, name, flg])\n",
    "        c = c + 1\n",
    "\n",
    "\n",
    "# Convertendo lista em dataframe\n",
    "mediaDF = mediaDF.append(mediaList,ignore_index=True)\n",
    "\n",
    "# add colunas ao df      \n",
    "mediaDF.columns = ['parentFolder', 'fileName', 'flgDelete']\n",
    "\n",
    "\n",
    "\n",
    "mediaFolder = pd.DataFrame(mediaDF.parentFolder.unique())\n",
    "mediaFolder.columns = ['parentFolder']\n",
    "mediaFolder = mediaFolder.drop([0])\n",
    "\n",
    "mediaFolder = mediaFolder.sort_values(by=['parentFolder'])\n",
    "mediaFolder = mediaFolder.reset_index(drop=True).drop([0])\n",
    "\n",
    "# displaying the DataFrame\n",
    "print(tabulate(mediaFolder, headers = 'keys', tablefmt = 'psql'))\n",
    "\n",
    "key = input(\"Qual pasta deseja acessar? \\n\")\n",
    "\n",
    "\n",
    "folderName = mediaFolder.iloc[int(key)-1][0]\n",
    "\n",
    "mediaDF_val = mediaDF[mediaDF.parentFolder.eq(folderName)]\n",
    "mediaDF_val = mediaDF_val.sort_values(by='flgDelete')\n",
    "mediaDF_val = mediaDF_val.reset_index(drop=True)\n",
    "mediaDF_val = mediaDF_val[mediaDF_val.flgDelete.eq(0)]\n",
    "\n",
    "print(tabulate(mediaDF_val, headers = 'keys', tablefmt = 'psql'))\n",
    "\n",
    "x = input(\"Deseja continuar com a extração? S ou N\")\n",
    "\n",
    "if x.lower() == \"s\":\n",
    "    for ind in mediaDF_val.index:\n",
    "        file = mediaDF_val['parentFolder'][ind] + '/' + mediaDF_val['fileName'][ind]\n",
    "        print(\"Extracting file \" + mediaDF_val['parentFolder'][ind] + '/' + mediaDF_val['fileName'][ind])\n",
    "        ptl.extract_archive(file, outdir=mediaDF_val['parentFolder'][ind])\n",
    "        print(\"End of extraction\")\n",
    "        # print(mediaDF_rar['parentFolder'][ind], mediaDF_rar['fileName'][ind])\n",
    "        "
   ]
  },
  {
   "cell_type": "code",
   "execution_count": null,
   "id": "b31688fa",
   "metadata": {},
   "outputs": [],
   "source": []
  },
  {
   "cell_type": "code",
   "execution_count": null,
   "id": "25bc8f3e",
   "metadata": {},
   "outputs": [],
   "source": [
    "3"
   ]
  }
 ],
 "metadata": {
  "kernelspec": {
   "display_name": "Python 3 (ipykernel)",
   "language": "python",
   "name": "python3"
  },
  "vscode": {
   "interpreter": {
    "hash": "b0fa6594d8f4cbf19f97940f81e996739fb7646882a419484c72d19e05852a7e"
   }
  }
 },
 "nbformat": 4,
 "nbformat_minor": 5
}
