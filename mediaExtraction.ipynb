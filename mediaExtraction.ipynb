{
 "cells": [
  {
   "cell_type": "code",
   "execution_count": null,
   "metadata": {},
   "outputs": [],
   "source": [
    "import pandas as pd\n",
    "import os\n",
    "import patoolib as ptl\n",
    "\n",
    "mediaPath = '/Volumes/Media/Torrents/completed/'\n",
    "mediaType = input(\"Qual tipo de media deseja analisar?\\n1. TV \\n2. Files\")\n",
    "mediaDF = pd.DataFrame()\n",
    "mediaDict = {}\n",
    "mediaList = []\n",
    "c = 1\n",
    "\n",
    "if int(mediaType) == 2:\n",
    "    mediaPath = mediaPath + \"tv\"\n",
    "    for root, directories, files in os.walk(mediaPath, topdown=False):\n",
    "        mediaDict[str(root)] = \"\"\n",
    "\n",
    "        for name in files:\n",
    "            mediaDict.update({root:name})\n",
    "\n",
    "mediaList = list(mediaDict.items())\n",
    "mediaDF = mediaDF.append(mediaList,ignore_index=True)      \n",
    "mediaDF.columns = ['parentFolder', 'fileName']\n",
    "\n",
    "mediaDF_rar = mediaDF[mediaDF[\"fileName\"].str.lower().str.endswith('.rar')]\n",
    "mediaDF_r00 = mediaDF[mediaDF[\"fileName\"].str.lower().str.endswith('.r00')]\n",
    "\n",
    "mediaConcat = pd.DataFrame()\n",
    "mediaConcat = mediaConcat.append([mediaDF_rar, mediaDF_r00])\n",
    "\n",
    "mediaDF.to_csv('/Volumes/Media/media.csv')\n",
    "\n",
    "#mediaDF.head(100)\n",
    "        "
   ]
  },
  {
   "cell_type": "code",
   "execution_count": null,
   "metadata": {},
   "outputs": [],
   "source": [
    "mediaList = [['abc','def']]\n",
    "mediaList.insert(1,['a', 'b'])\n",
    "mediaList.insert(2,['a', '4'])\n",
    "mediaList[0][1]\n",
    "mediaList\n",
    "\n"
   ]
  },
  {
   "cell_type": "code",
   "execution_count": 22,
   "metadata": {},
   "outputs": [],
   "source": [
    "import pandas as pd\n",
    "import os\n",
    "import patoolib as ptl\n",
    "\n",
    "# verificar se existe .rar onde existe .t00 ou .r00\n",
    "\n",
    "\n",
    "\n",
    "mediaPath = '/Volumes/Media/Torrents/completed/'\n",
    "mediaType = 2 #input(\"Qual tipo de media deseja analisar?\\n1. TV \\n2. Files\")\n",
    "mediaDF = pd.DataFrame()\n",
    "mediaDict = {}\n",
    "mediaList = [['0','0','0']]\n",
    "c = 1\n",
    "\n",
    "if int(mediaType) == 2:\n",
    "    mediaPath = mediaPath + \"tv\"\n",
    "\n",
    "    for root, directories, files in os.walk(mediaPath, topdown=False):\n",
    "        for name in files:\n",
    "            if name.endswith('.mkv') == True: \n",
    "                flg = 1 \n",
    "            else:\n",
    "                flg = 0\n",
    "            mediaList.insert(c,[root, name, flg])\n",
    "            #if name.endswith(\".rar\") == True or name.endswith(\".r00\") == True:\n",
    "            c = c + 1\n",
    "\n",
    "# mediaList = list(mediaDict.items())\n",
    "mediaDF = mediaDF.append(mediaList,ignore_index=True)      \n",
    "mediaDF.columns = ['parentFolder', 'fileName', 'flgDelete']\n",
    "\n",
    "mediaDF_rar = mediaDF[mediaDF[\"fileName\"].str.lower().str.endswith('.rar')]\n",
    "mediaDF_r00 = mediaDF[mediaDF[\"fileName\"].str.lower().str.endswith('.r00')]\n",
    "#mediaFlg = mediaDF[mediaDF.flgDelete.eq(1)].drop_duplicates(subset =\"parentFolder\",keep = False, inplace = True)\n",
    "mediaFlg = mediaDF[mediaDF.flgDelete.eq(1)]\n",
    "\n",
    "mediaDF = mediaDF[~mediaDF.parentFolder.isin(mediaFlg.parentFolder)]\n",
    "\n",
    "mediaDF_rar = mediaDF[mediaDF[\"fileName\"].str.lower().str.endswith('.rar')].sort_values(by=['parentFolder'])\n",
    "# mediaDF_rar = mediaDF_rar[~mediaDF_rar.parentFolder.isin(mediaDF_r00.parentFolder)]\n",
    "\n",
    "\n",
    "# for parent, file, delete in mediaFlg:\n",
    "#     mediaDF.drop(mediaDF[mediaDF['parentFolder'] == parent].index, inplace=True)\n",
    "\n",
    "\n",
    "# mediaDF_rar.head(100)\n",
    "   \n",
    "\n",
    "# mediaConcat = pd.DataFrame()\n",
    "# mediaConcat = mediaConcat.append([mediaDF_rar, mediaDF_r00]).reset_index()\n",
    "\n",
    "mediaDF_rar.to_csv('/Volumes/Media/media.csv')\n",
    "\n",
    "#mediaDF.head(100)\n",
    "        "
   ]
  },
  {
   "cell_type": "code",
   "execution_count": 28,
   "metadata": {},
   "outputs": [
    {
     "name": "stdout",
     "output_type": "stream",
     "text": [
      "patool: Extracting /Volumes/Media/Torrents/completed/tv/A.Discovery.Of.Witches.S03E02.INTERNAL.2160p.AUHDTV.x265-FaiLED/a.discovery.of.witches.s03e02.internal.2160p.auhdtv.x265-failed.rar ...\n"
     ]
    },
    {
     "ename": "PatoolError",
     "evalue": "could not find an executable program to extract format rar; candidates are (rar,unrar,7z),",
     "output_type": "error",
     "traceback": [
      "\u001b[0;31m---------------------------------------------------------------------------\u001b[0m",
      "\u001b[0;31mPatoolError\u001b[0m                               Traceback (most recent call last)",
      "\u001b[0;32m/var/folders/51/y4p_30s90qd16f68bk4295tc0000gp/T/ipykernel_39630/256186118.py\u001b[0m in \u001b[0;36m<module>\u001b[0;34m\u001b[0m\n\u001b[1;32m      5\u001b[0m \u001b[0;32mfor\u001b[0m \u001b[0mind\u001b[0m \u001b[0;32min\u001b[0m \u001b[0mmediaDF_rar\u001b[0m\u001b[0;34m.\u001b[0m\u001b[0mindex\u001b[0m\u001b[0;34m:\u001b[0m\u001b[0;34m\u001b[0m\u001b[0;34m\u001b[0m\u001b[0m\n\u001b[1;32m      6\u001b[0m     \u001b[0mfile\u001b[0m \u001b[0;34m=\u001b[0m \u001b[0mmediaDF_rar\u001b[0m\u001b[0;34m[\u001b[0m\u001b[0;34m'parentFolder'\u001b[0m\u001b[0;34m]\u001b[0m\u001b[0;34m[\u001b[0m\u001b[0mind\u001b[0m\u001b[0;34m]\u001b[0m \u001b[0;34m+\u001b[0m \u001b[0;34m'/'\u001b[0m \u001b[0;34m+\u001b[0m \u001b[0mmediaDF_rar\u001b[0m\u001b[0;34m[\u001b[0m\u001b[0;34m'fileName'\u001b[0m\u001b[0;34m]\u001b[0m\u001b[0;34m[\u001b[0m\u001b[0mind\u001b[0m\u001b[0;34m]\u001b[0m\u001b[0;34m\u001b[0m\u001b[0;34m\u001b[0m\u001b[0m\n\u001b[0;32m----> 7\u001b[0;31m     \u001b[0mptl\u001b[0m\u001b[0;34m.\u001b[0m\u001b[0mextract_archive\u001b[0m\u001b[0;34m(\u001b[0m\u001b[0mfile\u001b[0m\u001b[0;34m,\u001b[0m \u001b[0moutdir\u001b[0m\u001b[0;34m=\u001b[0m\u001b[0mmediaDF_rar\u001b[0m\u001b[0;34m[\u001b[0m\u001b[0;34m'parentFolder'\u001b[0m\u001b[0;34m]\u001b[0m\u001b[0;34m[\u001b[0m\u001b[0mind\u001b[0m\u001b[0;34m]\u001b[0m\u001b[0;34m)\u001b[0m\u001b[0;34m\u001b[0m\u001b[0;34m\u001b[0m\u001b[0m\n\u001b[0m\u001b[1;32m      8\u001b[0m     \u001b[0;31m# print(mediaDF_rar['parentFolder'][ind], mediaDF_rar['fileName'][ind])\u001b[0m\u001b[0;34m\u001b[0m\u001b[0;34m\u001b[0m\u001b[0m\n",
      "\u001b[0;32m~/opt/anaconda3/lib/python3.9/site-packages/patoolib/__init__.py\u001b[0m in \u001b[0;36mextract_archive\u001b[0;34m(archive, verbosity, outdir, program, interactive)\u001b[0m\n\u001b[1;32m    682\u001b[0m     \u001b[0;32mif\u001b[0m \u001b[0mverbosity\u001b[0m \u001b[0;34m>=\u001b[0m \u001b[0;36m0\u001b[0m\u001b[0;34m:\u001b[0m\u001b[0;34m\u001b[0m\u001b[0;34m\u001b[0m\u001b[0m\n\u001b[1;32m    683\u001b[0m         \u001b[0mutil\u001b[0m\u001b[0;34m.\u001b[0m\u001b[0mlog_info\u001b[0m\u001b[0;34m(\u001b[0m\u001b[0;34m\"Extracting %s ...\"\u001b[0m \u001b[0;34m%\u001b[0m \u001b[0marchive\u001b[0m\u001b[0;34m)\u001b[0m\u001b[0;34m\u001b[0m\u001b[0;34m\u001b[0m\u001b[0m\n\u001b[0;32m--> 684\u001b[0;31m     \u001b[0;32mreturn\u001b[0m \u001b[0m_extract_archive\u001b[0m\u001b[0;34m(\u001b[0m\u001b[0marchive\u001b[0m\u001b[0;34m,\u001b[0m \u001b[0mverbosity\u001b[0m\u001b[0;34m=\u001b[0m\u001b[0mverbosity\u001b[0m\u001b[0;34m,\u001b[0m \u001b[0minteractive\u001b[0m\u001b[0;34m=\u001b[0m\u001b[0minteractive\u001b[0m\u001b[0;34m,\u001b[0m \u001b[0moutdir\u001b[0m\u001b[0;34m=\u001b[0m\u001b[0moutdir\u001b[0m\u001b[0;34m,\u001b[0m \u001b[0mprogram\u001b[0m\u001b[0;34m=\u001b[0m\u001b[0mprogram\u001b[0m\u001b[0;34m)\u001b[0m\u001b[0;34m\u001b[0m\u001b[0;34m\u001b[0m\u001b[0m\n\u001b[0m\u001b[1;32m    685\u001b[0m \u001b[0;34m\u001b[0m\u001b[0m\n\u001b[1;32m    686\u001b[0m \u001b[0;34m\u001b[0m\u001b[0m\n",
      "\u001b[0;32m~/opt/anaconda3/lib/python3.9/site-packages/patoolib/__init__.py\u001b[0m in \u001b[0;36m_extract_archive\u001b[0;34m(archive, verbosity, interactive, outdir, program, format, compression)\u001b[0m\n\u001b[1;32m    468\u001b[0m         \u001b[0mformat\u001b[0m\u001b[0;34m,\u001b[0m \u001b[0mcompression\u001b[0m \u001b[0;34m=\u001b[0m \u001b[0mget_archive_format\u001b[0m\u001b[0;34m(\u001b[0m\u001b[0marchive\u001b[0m\u001b[0;34m)\u001b[0m\u001b[0;34m\u001b[0m\u001b[0;34m\u001b[0m\u001b[0m\n\u001b[1;32m    469\u001b[0m     \u001b[0mcheck_archive_format\u001b[0m\u001b[0;34m(\u001b[0m\u001b[0mformat\u001b[0m\u001b[0;34m,\u001b[0m \u001b[0mcompression\u001b[0m\u001b[0;34m)\u001b[0m\u001b[0;34m\u001b[0m\u001b[0;34m\u001b[0m\u001b[0m\n\u001b[0;32m--> 470\u001b[0;31m     \u001b[0mprogram\u001b[0m \u001b[0;34m=\u001b[0m \u001b[0mfind_archive_program\u001b[0m\u001b[0;34m(\u001b[0m\u001b[0mformat\u001b[0m\u001b[0;34m,\u001b[0m \u001b[0;34m'extract'\u001b[0m\u001b[0;34m,\u001b[0m \u001b[0mprogram\u001b[0m\u001b[0;34m=\u001b[0m\u001b[0mprogram\u001b[0m\u001b[0;34m)\u001b[0m\u001b[0;34m\u001b[0m\u001b[0;34m\u001b[0m\u001b[0m\n\u001b[0m\u001b[1;32m    471\u001b[0m     \u001b[0mcheck_program_compression\u001b[0m\u001b[0;34m(\u001b[0m\u001b[0marchive\u001b[0m\u001b[0;34m,\u001b[0m \u001b[0;34m'extract'\u001b[0m\u001b[0;34m,\u001b[0m \u001b[0mprogram\u001b[0m\u001b[0;34m,\u001b[0m \u001b[0mcompression\u001b[0m\u001b[0;34m)\u001b[0m\u001b[0;34m\u001b[0m\u001b[0;34m\u001b[0m\u001b[0m\n\u001b[1;32m    472\u001b[0m     \u001b[0mget_archive_cmdlist\u001b[0m \u001b[0;34m=\u001b[0m \u001b[0mget_archive_cmdlist_func\u001b[0m\u001b[0;34m(\u001b[0m\u001b[0mprogram\u001b[0m\u001b[0;34m,\u001b[0m \u001b[0;34m'extract'\u001b[0m\u001b[0;34m,\u001b[0m \u001b[0mformat\u001b[0m\u001b[0;34m)\u001b[0m\u001b[0;34m\u001b[0m\u001b[0;34m\u001b[0m\u001b[0m\n",
      "\u001b[0;32m~/opt/anaconda3/lib/python3.9/site-packages/patoolib/__init__.py\u001b[0m in \u001b[0;36mfind_archive_program\u001b[0;34m(format, command, program)\u001b[0m\n\u001b[1;32m    334\u001b[0m             \u001b[0;32mreturn\u001b[0m \u001b[0mexe\u001b[0m\u001b[0;34m\u001b[0m\u001b[0;34m\u001b[0m\u001b[0m\n\u001b[1;32m    335\u001b[0m     \u001b[0;31m# no programs found\u001b[0m\u001b[0;34m\u001b[0m\u001b[0;34m\u001b[0m\u001b[0m\n\u001b[0;32m--> 336\u001b[0;31m     \u001b[0;32mraise\u001b[0m \u001b[0mutil\u001b[0m\u001b[0;34m.\u001b[0m\u001b[0mPatoolError\u001b[0m\u001b[0;34m(\u001b[0m\u001b[0;34m\"could not find an executable program to %s format %s; candidates are (%s),\"\u001b[0m \u001b[0;34m%\u001b[0m \u001b[0;34m(\u001b[0m\u001b[0mcommand\u001b[0m\u001b[0;34m,\u001b[0m \u001b[0mformat\u001b[0m\u001b[0;34m,\u001b[0m \u001b[0;34m\",\"\u001b[0m\u001b[0;34m.\u001b[0m\u001b[0mjoin\u001b[0m\u001b[0;34m(\u001b[0m\u001b[0mprograms\u001b[0m\u001b[0;34m)\u001b[0m\u001b[0;34m)\u001b[0m\u001b[0;34m)\u001b[0m\u001b[0;34m\u001b[0m\u001b[0;34m\u001b[0m\u001b[0m\n\u001b[0m\u001b[1;32m    337\u001b[0m \u001b[0;34m\u001b[0m\u001b[0m\n\u001b[1;32m    338\u001b[0m \u001b[0;34m\u001b[0m\u001b[0m\n",
      "\u001b[0;31mPatoolError\u001b[0m: could not find an executable program to extract format rar; candidates are (rar,unrar,7z),"
     ]
    }
   ],
   "source": [
    "# iterate through each row and select\n",
    "# 'Name' and 'Stream' column respectively.\n",
    "mediaDF_rar = mediaDF_rar.head(2)\n",
    "\n",
    "for ind in mediaDF_rar.index:\n",
    "    file = mediaDF_rar['parentFolder'][ind] + '/' + mediaDF_rar['fileName'][ind]\n",
    "    ptl.extract_archive(file, outdir=mediaDF_rar['parentFolder'][ind])\n",
    "    # print(mediaDF_rar['parentFolder'][ind], mediaDF_rar['fileName'][ind])"
   ]
  },
  {
   "cell_type": "code",
   "execution_count": null,
   "metadata": {},
   "outputs": [],
   "source": []
  }
 ],
 "metadata": {
  "kernelspec": {
   "display_name": "Python 3.9.7 ('base')",
   "language": "python",
   "name": "python3"
  },
  "language_info": {
   "codemirror_mode": {
    "name": "ipython",
    "version": 3
   },
   "file_extension": ".py",
   "mimetype": "text/x-python",
   "name": "python",
   "nbconvert_exporter": "python",
   "pygments_lexer": "ipython3",
   "version": "3.9.7"
  },
  "orig_nbformat": 4,
  "vscode": {
   "interpreter": {
    "hash": "92b0a270636e524287e67f62d28a7b844134b51ac94af6b763e1ad25f060bbe0"
   }
  }
 },
 "nbformat": 4,
 "nbformat_minor": 2
}
