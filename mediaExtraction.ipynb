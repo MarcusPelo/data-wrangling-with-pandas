{
 "cells": [
  {
   "cell_type": "code",
   "execution_count": null,
   "metadata": {},
   "outputs": [],
   "source": [
    "import pandas as pd\n",
    "import os\n",
    "import patoolib as ptl\n",
    "\n",
    "\n",
    "mediaPath = '/mnt/Media/Torrents/completed/'\n",
    "mediaType = 2 #input(\"Qual tipo de media deseja analisar?\\n1. TV \\n2. Files\")\n",
    "mediaDF = pd.DataFrame()\n",
    "mediaDict = {}\n",
    "mediaList = [['0','0','0']]\n",
    "c = 1\n",
    "\n",
    "if int(mediaType) == 2:\n",
    "    mediaPath = mediaPath + \"tv\"\n",
    "\n",
    "    for root, directories, files in os.walk(mediaPath, topdown=False):\n",
    "        for name in files:\n",
    "            if name.endswith('.mkv') == True: \n",
    "                flg = 1 \n",
    "            else:\n",
    "                flg = 0\n",
    "            mediaList.insert(c,[root, name, flg])\n",
    "            c = c + 1\n",
    "\n",
    "\n",
    "mediaDF = mediaDF.append(mediaList,ignore_index=True)      \n",
    "mediaDF.columns = ['parentFolder', 'fileName', 'flgDelete']\n",
    "\n",
    "# mediaDF_rar = mediaDF[mediaDF[\"fileName\"].str.lower().str.endswith('.rar')]\n",
    "# mediaDF_r00 = mediaDF[mediaDF[\"fileName\"].str.lower().str.endswith('.r00')]\n",
    "mediaFlg = mediaDF[mediaDF.flgDelete.eq(1)]\n",
    "mediaDF = mediaDF[~mediaDF.parentFolder.isin(mediaFlg.parentFolder)]\n",
    "mediaDF_rar = mediaDF[mediaDF[\"fileName\"].str.lower().str.endswith('.rar')].sort_values(by=['parentFolder'])\n",
    "mediaDF_rar.to_csv('/mnt/Media/media.csv')\n",
    "\n",
    "#mediaDF.head(100)\n",
    "        "
   ]
  },
  {
   "cell_type": "code",
   "execution_count": null,
   "metadata": {},
   "outputs": [],
   "source": [
    "# iterate through each row and select\n",
    "# 'Name' and 'Stream' column respectively.\n",
    "mediaDF_rar = mediaDF_rar.head(10)\n",
    "\n",
    "for ind in mediaDF_rar.index:\n",
    "    file = mediaDF_rar['parentFolder'][ind] + '/' + mediaDF_rar['fileName'][ind]\n",
    "    ptl.extract_archive(file, outdir=mediaDF_rar['parentFolder'][ind])\n",
    "    # print(mediaDF_rar['parentFolder'][ind], mediaDF_rar['fileName'][ind])"
   ]
  },
  {
   "cell_type": "markdown",
   "metadata": {},
   "source": [
    "### Rename DBZ"
   ]
  },
  {
   "cell_type": "code",
   "execution_count": 5,
   "metadata": {},
   "outputs": [
    {
     "name": "stderr",
     "output_type": "stream",
     "text": [
      "/tmp/ipykernel_4179299/1503909115.py:24: FutureWarning: The frame.append method is deprecated and will be removed from pandas in a future version. Use pandas.concat instead.\n",
      "  mediaDF = mediaDF.append(mediaList,ignore_index=True)\n"
     ]
    }
   ],
   "source": [
    "import pandas as pd\n",
    "import os\n",
    "import patoolib as ptl\n",
    "\n",
    "\n",
    "mediaPath = '/mnt/Downloads/Marcus/unrar/'\n",
    "mediaType = 2 #input(\"Qual tipo de media deseja analisar?\\n1. TV \\n2. Files\")\n",
    "mediaDF = pd.DataFrame()\n",
    "mediaDict = {}\n",
    "mediaList = [['0','0','0']]\n",
    "c = 1\n",
    "\n",
    "\n",
    "for root, directories, files in os.walk(mediaPath, topdown=False):\n",
    "    for name in files:\n",
    "        if name.endswith('.mkv') == True: \n",
    "            flg = 1 \n",
    "        else:\n",
    "            flg = 0\n",
    "        mediaList.insert(c,[root, name, flg])\n",
    "        c = c + 1\n",
    "\n",
    "\n",
    "mediaDF = mediaDF.append(mediaList,ignore_index=True)      \n",
    "mediaDF.columns = ['parentFolder', 'fileName', 'flgDelete']\n",
    "\n",
    "# mediaDF_rar = mediaDF[mediaDF[\"fileName\"].str.lower().str.endswith('.rar')]\n",
    "# mediaDF_r00 = mediaDF[mediaDF[\"fileName\"].str.lower().str.endswith('.r00')]\n",
    "mediaFlg = mediaDF[mediaDF.flgDelete.eq(1)]\n",
    "mediaDF = mediaDF[~mediaDF.parentFolder.isin(mediaFlg.parentFolder)]\n",
    "mediaDF_rar = mediaDF[mediaDF[\"fileName\"].str.lower().str.endswith('.rar')].sort_values(by=['fileName'])\n",
    "mediaDF_rar.to_csv('/mnt/Media/media.csv')\n",
    "\n",
    "#mediaDF.head(100)\n",
    "        "
   ]
  },
  {
   "cell_type": "code",
   "execution_count": 6,
   "metadata": {},
   "outputs": [
    {
     "name": "stdout",
     "output_type": "stream",
     "text": [
      "patool: Extracting /mnt/Downloads/Marcus/unrar//[GOGL] DBS - 011HD (Dublado).rar ...\n",
      "patool: running /usr/bin/rar x -- \"/mnt/Downloads/Marcus/unrar/[GOGL] DBS - 011HD (Dublado).rar\"\n",
      "patool:     with cwd='/mnt/Downloads/Marcus/unrar/'\n"
     ]
    },
    {
     "name": "stderr",
     "output_type": "stream",
     "text": [
      "\n",
      "WARNING: Cannot change attributes of [GOGL] Dragon Ball Super - 011 (Dublado).mkv"
     ]
    },
    {
     "name": "stdout",
     "output_type": "stream",
     "text": [
      "patool: ... /mnt/Downloads/Marcus/unrar//[GOGL] DBS - 011HD (Dublado).rar extracted to `/mnt/Downloads/Marcus/unrar/'.\n",
      "patool: Extracting /mnt/Downloads/Marcus/unrar//[GOGL] DBS - 012HD (Dublado).rar ...\n",
      "patool: running /usr/bin/rar x -- \"/mnt/Downloads/Marcus/unrar/[GOGL] DBS - 012HD (Dublado).rar\"\n",
      "patool:     with cwd='/mnt/Downloads/Marcus/unrar/'\n"
     ]
    },
    {
     "name": "stderr",
     "output_type": "stream",
     "text": [
      "\n",
      "WARNING: Cannot change attributes of [GOGL] Dragon Ball Super - 012 (Dublado).mkv"
     ]
    },
    {
     "name": "stdout",
     "output_type": "stream",
     "text": [
      "patool: ... /mnt/Downloads/Marcus/unrar//[GOGL] DBS - 012HD (Dublado).rar extracted to `/mnt/Downloads/Marcus/unrar/'.\n",
      "patool: Extracting /mnt/Downloads/Marcus/unrar//[GOGL] DBS - 013HD (Dublado).rar ...\n",
      "patool: running /usr/bin/rar x -- \"/mnt/Downloads/Marcus/unrar/[GOGL] DBS - 013HD (Dublado).rar\"\n",
      "patool:     with cwd='/mnt/Downloads/Marcus/unrar/'\n"
     ]
    },
    {
     "name": "stderr",
     "output_type": "stream",
     "text": [
      "\n",
      "WARNING: Cannot change attributes of [GOGL] Dragon Ball Super - 013 (Dublado).mkv"
     ]
    },
    {
     "name": "stdout",
     "output_type": "stream",
     "text": [
      "patool: ... /mnt/Downloads/Marcus/unrar//[GOGL] DBS - 013HD (Dublado).rar extracted to `/mnt/Downloads/Marcus/unrar/'.\n",
      "patool: Extracting /mnt/Downloads/Marcus/unrar//[GOGL] DBS - 014HD (Dublado).rar ...\n",
      "patool: running /usr/bin/rar x -- \"/mnt/Downloads/Marcus/unrar/[GOGL] DBS - 014HD (Dublado).rar\"\n",
      "patool:     with cwd='/mnt/Downloads/Marcus/unrar/'\n",
      "patool: ... /mnt/Downloads/Marcus/unrar//[GOGL] DBS - 014HD (Dublado).rar extracted to `/mnt/Downloads/Marcus/unrar/'.\n"
     ]
    },
    {
     "name": "stderr",
     "output_type": "stream",
     "text": [
      "\n",
      "WARNING: Cannot change attributes of [GOGL] Dragon Ball Super - 014 (Dublado).mkv"
     ]
    }
   ],
   "source": [
    "# iterate through each row and select\n",
    "# 'Name' and 'Stream' column respectively.\n",
    "mediaDF_rar = mediaDF_rar.head(10)\n",
    "\n",
    "for ind in mediaDF_rar.index:\n",
    "    file = mediaDF_rar['parentFolder'][ind] + '/' + mediaDF_rar['fileName'][ind]\n",
    "    ptl.extract_archive(file, outdir=mediaDF_rar['parentFolder'][ind])\n",
    "    # print(mediaDF_rar['parentFolder'][ind], mediaDF_rar['fileName'][ind])"
   ]
  },
  {
   "cell_type": "code",
   "execution_count": null,
   "metadata": {},
   "outputs": [],
   "source": [
    "# iterate through each row and select\n",
    "# 'Name' and 'Stream' column respectively.\n",
    "mediaDF_rar = mediaDF_rar.head(15)\n",
    "\n",
    "for ind in mediaDF_rar.index:\n",
    "    file = mediaDF_rar['parentFolder'][ind] + '/' + mediaDF_rar['fileName'][ind]\n",
    "    ptl.extract_archive(file, outdir=mediaDF_rar['parentFolder'][ind])\n",
    "    # print(mediaDF_rar['parentFolder'][ind], mediaDF_rar['fileName'][ind])"
   ]
  }
 ],
 "metadata": {
  "kernelspec": {
   "display_name": "Python 3 (ipykernel)",
   "language": "python",
   "name": "python3"
  },
  "language_info": {
   "codemirror_mode": {
    "name": "ipython",
    "version": 3
   },
   "file_extension": ".py",
   "mimetype": "text/x-python",
   "name": "python",
   "nbconvert_exporter": "python",
   "pygments_lexer": "ipython3",
   "version": "3.9.12"
  },
  "vscode": {
   "interpreter": {
    "hash": "92b0a270636e524287e67f62d28a7b844134b51ac94af6b763e1ad25f060bbe0"
   }
  }
 },
 "nbformat": 4,
 "nbformat_minor": 2
}
