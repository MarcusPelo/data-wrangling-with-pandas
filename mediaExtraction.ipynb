{
 "cells": [
  {
   "cell_type": "code",
   "execution_count": 8,
   "metadata": {},
   "outputs": [
    {
     "name": "stderr",
     "output_type": "stream",
     "text": [
      "/tmp/ipykernel_316575/3932138312.py:26: FutureWarning: The frame.append method is deprecated and will be removed from pandas in a future version. Use pandas.concat instead.\n",
      "  mediaDF = mediaDF.append(mediaList,ignore_index=True)\n"
     ]
    }
   ],
   "source": [
    "import pandas as pd\n",
    "import os\n",
    "import patoolib as ptl\n",
    "\n",
    "\n",
    "mediaPath = '/mnt/Media/Torrents/completed/'\n",
    "mediaType = 2 #input(\"Qual tipo de media deseja analisar?\\n1. TV \\n2. Files\")\n",
    "mediaDF = pd.DataFrame()\n",
    "mediaDict = {}\n",
    "mediaList = [['0','0','0']]\n",
    "c = 1\n",
    "\n",
    "if int(mediaType) == 2:\n",
    "    mediaPath = mediaPath + \"tv\"\n",
    "\n",
    "    for root, directories, files in os.walk(mediaPath, topdown=False):\n",
    "        for name in files:\n",
    "            if name.endswith('.mkv') == True: \n",
    "                flg = 1 \n",
    "            else:\n",
    "                flg = 0\n",
    "            mediaList.insert(c,[root, name, flg])\n",
    "            c = c + 1\n",
    "\n",
    "\n",
    "mediaDF = mediaDF.append(mediaList,ignore_index=True)      \n",
    "mediaDF.columns = ['parentFolder', 'fileName', 'flgDelete']\n",
    "\n",
    "mediaDF_rar = mediaDF[mediaDF[\"fileName\"].str.lower().str.endswith('.rar')]\n",
    "mediaDF_r00 = mediaDF[mediaDF[\"fileName\"].str.lower().str.endswith('.r00')]\n",
    "mediaFlg = mediaDF[mediaDF.flgDelete.eq(1)]\n",
    "mediaDop = mediaDF[mediaDF.parentFolder.str.contains('Dopesick', case=False)]\n",
    "mediaScr = mediaDF[mediaDF.parentFolder.str.contains('scrubs', case=False)]\n",
    "mediaDF = mediaDF[~mediaDF.parentFolder.isin(mediaFlg.parentFolder)]\n",
    "mediaDF = mediaDF[~mediaDF.parentFolder.isin(mediaDop.parentFolder)]\n",
    "mediaDF = mediaDF[~mediaDF.parentFolder.isin(mediaScr.parentFolder)]\n",
    "\n",
    "mediaDF_rar = mediaDF[mediaDF[\"fileName\"].str.lower().str.endswith('.rar')].sort_values(by=['parentFolder'])\n",
    "mediaDF_rar.to_csv('/mnt/Media/media.csv')\n",
    "\n",
    "\n",
    "\n",
    "#mediaDF.head(100)\n",
    "        "
   ]
  },
  {
   "cell_type": "code",
   "execution_count": 9,
   "metadata": {},
   "outputs": [
    {
     "name": "stdout",
     "output_type": "stream",
     "text": [
      "Extracting file /mnt/Media/Torrents/completed/tv/Servant.S03E03.1080p.WEB.H264-CAKES/servant.s03e03.1080p.web.h264-cakes.rar\n",
      "patool: Extracting /mnt/Media/Torrents/completed/tv/Servant.S03E03.1080p.WEB.H264-CAKES/servant.s03e03.1080p.web.h264-cakes.rar ...\n",
      "patool: running /usr/bin/rar x -- /mnt/Media/Torrents/completed/tv/Servant.S03E03.1080p.WEB.H264-CAKES/servant.s03e03.1080p.web.h264-cakes.rar\n",
      "patool:     with cwd='/mnt/Media/Torrents/completed/tv/Servant.S03E03.1080p.WEB.H264-CAKES'\n"
     ]
    },
    {
     "name": "stderr",
     "output_type": "stream",
     "text": [
      "\n",
      "WARNING: Cannot change attributes of servant.s03e03.1080p.web.h264-cakes.mkv"
     ]
    },
    {
     "name": "stdout",
     "output_type": "stream",
     "text": [
      "patool: ... /mnt/Media/Torrents/completed/tv/Servant.S03E03.1080p.WEB.H264-CAKES/servant.s03e03.1080p.web.h264-cakes.rar extracted to `/mnt/Media/Torrents/completed/tv/Servant.S03E03.1080p.WEB.H264-CAKES'.\n",
      "End of extraction\n",
      "Extracting file /mnt/Media/Torrents/completed/tv/The.Orville.S03E03.1080p.WEB.H264-CAKES/the.orville.s03e03.1080p.web.h264-cakes.rar\n",
      "patool: Extracting /mnt/Media/Torrents/completed/tv/The.Orville.S03E03.1080p.WEB.H264-CAKES/the.orville.s03e03.1080p.web.h264-cakes.rar ...\n",
      "patool: running /usr/bin/rar x -- /mnt/Media/Torrents/completed/tv/The.Orville.S03E03.1080p.WEB.H264-CAKES/the.orville.s03e03.1080p.web.h264-cakes.rar\n",
      "patool:     with cwd='/mnt/Media/Torrents/completed/tv/The.Orville.S03E03.1080p.WEB.H264-CAKES'\n"
     ]
    },
    {
     "name": "stderr",
     "output_type": "stream",
     "text": [
      "\n",
      "WARNING: Cannot change attributes of the.orville.s03e03.1080p.web.h264-cakes.mkv"
     ]
    },
    {
     "name": "stdout",
     "output_type": "stream",
     "text": [
      "patool: ... /mnt/Media/Torrents/completed/tv/The.Orville.S03E03.1080p.WEB.H264-CAKES/the.orville.s03e03.1080p.web.h264-cakes.rar extracted to `/mnt/Media/Torrents/completed/tv/The.Orville.S03E03.1080p.WEB.H264-CAKES'.\n",
      "End of extraction\n",
      "Extracting file /mnt/Media/Torrents/completed/tv/The.Orville.S03E06.1080p.WEB.H264-GGEZ/the.orville.s03e06.1080p.web.h264-ggez.rar\n",
      "patool: Extracting /mnt/Media/Torrents/completed/tv/The.Orville.S03E06.1080p.WEB.H264-GGEZ/the.orville.s03e06.1080p.web.h264-ggez.rar ...\n",
      "patool: running /usr/bin/rar x -- /mnt/Media/Torrents/completed/tv/The.Orville.S03E06.1080p.WEB.H264-GGEZ/the.orville.s03e06.1080p.web.h264-ggez.rar\n",
      "patool:     with cwd='/mnt/Media/Torrents/completed/tv/The.Orville.S03E06.1080p.WEB.H264-GGEZ'\n"
     ]
    },
    {
     "name": "stderr",
     "output_type": "stream",
     "text": [
      "\n",
      "WARNING: Cannot change attributes of the.orville.s03e06.1080p.web.h264-ggez.mkv"
     ]
    },
    {
     "name": "stdout",
     "output_type": "stream",
     "text": [
      "patool: ... /mnt/Media/Torrents/completed/tv/The.Orville.S03E06.1080p.WEB.H264-GGEZ/the.orville.s03e06.1080p.web.h264-ggez.rar extracted to `/mnt/Media/Torrents/completed/tv/The.Orville.S03E06.1080p.WEB.H264-GGEZ'.\n",
      "End of extraction\n",
      "Extracting file /mnt/Media/Torrents/completed/tv/The.Orville.S03E07.1080p.WEB.H264-CAKES/the.orville.s03e07.1080p.web.h264-cakes.rar\n",
      "patool: Extracting /mnt/Media/Torrents/completed/tv/The.Orville.S03E07.1080p.WEB.H264-CAKES/the.orville.s03e07.1080p.web.h264-cakes.rar ...\n",
      "patool: running /usr/bin/rar x -- /mnt/Media/Torrents/completed/tv/The.Orville.S03E07.1080p.WEB.H264-CAKES/the.orville.s03e07.1080p.web.h264-cakes.rar\n",
      "patool:     with cwd='/mnt/Media/Torrents/completed/tv/The.Orville.S03E07.1080p.WEB.H264-CAKES'\n"
     ]
    },
    {
     "name": "stderr",
     "output_type": "stream",
     "text": [
      "\n",
      "WARNING: Cannot change attributes of the.orville.s03e07.1080p.web.h264-cakes.mkv"
     ]
    },
    {
     "name": "stdout",
     "output_type": "stream",
     "text": [
      "patool: ... /mnt/Media/Torrents/completed/tv/The.Orville.S03E07.1080p.WEB.H264-CAKES/the.orville.s03e07.1080p.web.h264-cakes.rar extracted to `/mnt/Media/Torrents/completed/tv/The.Orville.S03E07.1080p.WEB.H264-CAKES'.\n",
      "End of extraction\n",
      "Extracting file /mnt/Media/Torrents/completed/tv/The.Orville.S03E08.1080p.WEB.H264-GGEZ/the.orville.s03e08.1080p.web.h264-ggez.rar\n",
      "patool: Extracting /mnt/Media/Torrents/completed/tv/The.Orville.S03E08.1080p.WEB.H264-GGEZ/the.orville.s03e08.1080p.web.h264-ggez.rar ...\n",
      "patool: running /usr/bin/rar x -- /mnt/Media/Torrents/completed/tv/The.Orville.S03E08.1080p.WEB.H264-GGEZ/the.orville.s03e08.1080p.web.h264-ggez.rar\n",
      "patool:     with cwd='/mnt/Media/Torrents/completed/tv/The.Orville.S03E08.1080p.WEB.H264-GGEZ'\n"
     ]
    },
    {
     "name": "stderr",
     "output_type": "stream",
     "text": [
      "\n",
      "WARNING: Cannot change attributes of the.orville.s03e08.1080p.web.h264-ggez.mkv"
     ]
    },
    {
     "name": "stdout",
     "output_type": "stream",
     "text": [
      "patool: ... /mnt/Media/Torrents/completed/tv/The.Orville.S03E08.1080p.WEB.H264-GGEZ/the.orville.s03e08.1080p.web.h264-ggez.rar extracted to `/mnt/Media/Torrents/completed/tv/The.Orville.S03E08.1080p.WEB.H264-GGEZ'.\n",
      "End of extraction\n",
      "Extracting file /mnt/Media/Torrents/completed/tv/The.Orville.S03E09.1080p.WEB.H264-CAKES/the.orville.s03e09.1080p.web.h264-cakes.rar\n",
      "patool: Extracting /mnt/Media/Torrents/completed/tv/The.Orville.S03E09.1080p.WEB.H264-CAKES/the.orville.s03e09.1080p.web.h264-cakes.rar ...\n",
      "patool: running /usr/bin/rar x -- /mnt/Media/Torrents/completed/tv/The.Orville.S03E09.1080p.WEB.H264-CAKES/the.orville.s03e09.1080p.web.h264-cakes.rar\n",
      "patool:     with cwd='/mnt/Media/Torrents/completed/tv/The.Orville.S03E09.1080p.WEB.H264-CAKES'\n"
     ]
    },
    {
     "name": "stderr",
     "output_type": "stream",
     "text": [
      "\n",
      "WARNING: Cannot change attributes of the.orville.s03e09.1080p.web.h264-cakes.mkv"
     ]
    },
    {
     "name": "stdout",
     "output_type": "stream",
     "text": [
      "patool: ... /mnt/Media/Torrents/completed/tv/The.Orville.S03E09.1080p.WEB.H264-CAKES/the.orville.s03e09.1080p.web.h264-cakes.rar extracted to `/mnt/Media/Torrents/completed/tv/The.Orville.S03E09.1080p.WEB.H264-CAKES'.\n",
      "End of extraction\n",
      "Extracting file /mnt/Media/Torrents/completed/tv/The.Orville.S03E10.1080p.WEB.H264-GLHF/the.orville.s03e10.1080p.web.h264-glhf.rar\n",
      "patool: Extracting /mnt/Media/Torrents/completed/tv/The.Orville.S03E10.1080p.WEB.H264-GLHF/the.orville.s03e10.1080p.web.h264-glhf.rar ...\n",
      "patool: running /usr/bin/rar x -- /mnt/Media/Torrents/completed/tv/The.Orville.S03E10.1080p.WEB.H264-GLHF/the.orville.s03e10.1080p.web.h264-glhf.rar\n",
      "patool:     with cwd='/mnt/Media/Torrents/completed/tv/The.Orville.S03E10.1080p.WEB.H264-GLHF'\n"
     ]
    },
    {
     "name": "stderr",
     "output_type": "stream",
     "text": [
      "\n",
      "WARNING: Cannot change attributes of the.orville.s03e10.1080p.web.h264-glhf.mkv"
     ]
    },
    {
     "name": "stdout",
     "output_type": "stream",
     "text": [
      "patool: ... /mnt/Media/Torrents/completed/tv/The.Orville.S03E10.1080p.WEB.H264-GLHF/the.orville.s03e10.1080p.web.h264-glhf.rar extracted to `/mnt/Media/Torrents/completed/tv/The.Orville.S03E10.1080p.WEB.H264-GLHF'.\n",
      "End of extraction\n",
      "Extracting file /mnt/Media/Torrents/completed/tv/What.We.Do.In.The.Shadows.S03E05.1080p.WEB.h264-GOSSIP/what.we.do.in.the.shadows.s03e05.1080p.web.h264-gossip.rar\n",
      "patool: Extracting /mnt/Media/Torrents/completed/tv/What.We.Do.In.The.Shadows.S03E05.1080p.WEB.h264-GOSSIP/what.we.do.in.the.shadows.s03e05.1080p.web.h264-gossip.rar ...\n",
      "patool: running /usr/bin/rar x -- /mnt/Media/Torrents/completed/tv/What.We.Do.In.The.Shadows.S03E05.1080p.WEB.h264-GOSSIP/what.we.do.in.the.shadows.s03e05.1080p.web.h264-gossip.rar\n",
      "patool:     with cwd='/mnt/Media/Torrents/completed/tv/What.We.Do.In.The.Shadows.S03E05.1080p.WEB.h264-GOSSIP'\n"
     ]
    },
    {
     "name": "stderr",
     "output_type": "stream",
     "text": [
      "\n",
      "WARNING: Cannot change attributes of What.We.Do.In.The.Shadows.S03E05.1080p.WEB.h264-GOSSIP.mkv"
     ]
    },
    {
     "name": "stdout",
     "output_type": "stream",
     "text": [
      "patool: ... /mnt/Media/Torrents/completed/tv/What.We.Do.In.The.Shadows.S03E05.1080p.WEB.h264-GOSSIP/what.we.do.in.the.shadows.s03e05.1080p.web.h264-gossip.rar extracted to `/mnt/Media/Torrents/completed/tv/What.We.Do.In.The.Shadows.S03E05.1080p.WEB.h264-GOSSIP'.\n",
      "End of extraction\n",
      "Extracting file /mnt/Media/Torrents/completed/tv/What.We.Do.In.The.Shadows.S03E07.1080p.WEB.h264-GOSSIP/what.we.do.in.the.shadows.s03e07.1080p.web.h264-gossip.rar\n",
      "patool: Extracting /mnt/Media/Torrents/completed/tv/What.We.Do.In.The.Shadows.S03E07.1080p.WEB.h264-GOSSIP/what.we.do.in.the.shadows.s03e07.1080p.web.h264-gossip.rar ...\n",
      "patool: running /usr/bin/rar x -- /mnt/Media/Torrents/completed/tv/What.We.Do.In.The.Shadows.S03E07.1080p.WEB.h264-GOSSIP/what.we.do.in.the.shadows.s03e07.1080p.web.h264-gossip.rar\n",
      "patool:     with cwd='/mnt/Media/Torrents/completed/tv/What.We.Do.In.The.Shadows.S03E07.1080p.WEB.h264-GOSSIP'\n"
     ]
    },
    {
     "name": "stderr",
     "output_type": "stream",
     "text": [
      "\n",
      "WARNING: Cannot change attributes of What.We.Do.In.The.Shadows.S03E07.1080p.WEB.h264-GOSSIP.mkv"
     ]
    },
    {
     "name": "stdout",
     "output_type": "stream",
     "text": [
      "patool: ... /mnt/Media/Torrents/completed/tv/What.We.Do.In.The.Shadows.S03E07.1080p.WEB.h264-GOSSIP/what.we.do.in.the.shadows.s03e07.1080p.web.h264-gossip.rar extracted to `/mnt/Media/Torrents/completed/tv/What.We.Do.In.The.Shadows.S03E07.1080p.WEB.h264-GOSSIP'.\n",
      "End of extraction\n",
      "Extracting file /mnt/Media/Torrents/completed/tv/What.We.Do.In.The.Shadows.S03E08.1080p.WEB.h264-GOSSIP/what.we.do.in.the.shadows.s03e08.1080p.web.h264-gossip.rar\n",
      "patool: Extracting /mnt/Media/Torrents/completed/tv/What.We.Do.In.The.Shadows.S03E08.1080p.WEB.h264-GOSSIP/what.we.do.in.the.shadows.s03e08.1080p.web.h264-gossip.rar ...\n",
      "patool: running /usr/bin/rar x -- /mnt/Media/Torrents/completed/tv/What.We.Do.In.The.Shadows.S03E08.1080p.WEB.h264-GOSSIP/what.we.do.in.the.shadows.s03e08.1080p.web.h264-gossip.rar\n",
      "patool:     with cwd='/mnt/Media/Torrents/completed/tv/What.We.Do.In.The.Shadows.S03E08.1080p.WEB.h264-GOSSIP'\n"
     ]
    },
    {
     "name": "stderr",
     "output_type": "stream",
     "text": [
      "\n",
      "WARNING: Cannot change attributes of What.We.Do.In.The.Shadows.S03E08.1080p.WEB.h264-GOSSIP.mkv"
     ]
    },
    {
     "name": "stdout",
     "output_type": "stream",
     "text": [
      "patool: ... /mnt/Media/Torrents/completed/tv/What.We.Do.In.The.Shadows.S03E08.1080p.WEB.h264-GOSSIP/what.we.do.in.the.shadows.s03e08.1080p.web.h264-gossip.rar extracted to `/mnt/Media/Torrents/completed/tv/What.We.Do.In.The.Shadows.S03E08.1080p.WEB.h264-GOSSIP'.\n",
      "End of extraction\n",
      "Extracting file /mnt/Media/Torrents/completed/tv/What.We.Do.in.the.Shadows.S03E04.1080p.WEB.h264-GOSSIP/what.we.do.in.the.shadows.s03e04.1080p.web.h264-gossip.rar\n",
      "patool: Extracting /mnt/Media/Torrents/completed/tv/What.We.Do.in.the.Shadows.S03E04.1080p.WEB.h264-GOSSIP/what.we.do.in.the.shadows.s03e04.1080p.web.h264-gossip.rar ...\n",
      "patool: running /usr/bin/rar x -- /mnt/Media/Torrents/completed/tv/What.We.Do.in.the.Shadows.S03E04.1080p.WEB.h264-GOSSIP/what.we.do.in.the.shadows.s03e04.1080p.web.h264-gossip.rar\n",
      "patool:     with cwd='/mnt/Media/Torrents/completed/tv/What.We.Do.in.the.Shadows.S03E04.1080p.WEB.h264-GOSSIP'\n"
     ]
    },
    {
     "name": "stderr",
     "output_type": "stream",
     "text": [
      "\n",
      "WARNING: Cannot change attributes of What.We.Do.in.the.Shadows.S03E04.1080p.WEB.h264-GOSSIP.mkv"
     ]
    },
    {
     "name": "stdout",
     "output_type": "stream",
     "text": [
      "patool: ... /mnt/Media/Torrents/completed/tv/What.We.Do.in.the.Shadows.S03E04.1080p.WEB.h264-GOSSIP/what.we.do.in.the.shadows.s03e04.1080p.web.h264-gossip.rar extracted to `/mnt/Media/Torrents/completed/tv/What.We.Do.in.the.Shadows.S03E04.1080p.WEB.h264-GOSSIP'.\n",
      "End of extraction\n",
      "Extracting file /mnt/Media/Torrents/completed/tv/What.We.Do.in.the.Shadows.S03E09.1080p.WEB.h264-GOSSIP/what.we.do.in.the.shadows.s03e09.1080p.web.h264-gossip.rar\n",
      "patool: Extracting /mnt/Media/Torrents/completed/tv/What.We.Do.in.the.Shadows.S03E09.1080p.WEB.h264-GOSSIP/what.we.do.in.the.shadows.s03e09.1080p.web.h264-gossip.rar ...\n",
      "patool: running /usr/bin/rar x -- /mnt/Media/Torrents/completed/tv/What.We.Do.in.the.Shadows.S03E09.1080p.WEB.h264-GOSSIP/what.we.do.in.the.shadows.s03e09.1080p.web.h264-gossip.rar\n",
      "patool:     with cwd='/mnt/Media/Torrents/completed/tv/What.We.Do.in.the.Shadows.S03E09.1080p.WEB.h264-GOSSIP'\n"
     ]
    },
    {
     "name": "stderr",
     "output_type": "stream",
     "text": [
      "\n",
      "WARNING: Cannot change attributes of What.We.Do.in.the.Shadows.S03E09.1080p.WEB.h264-GOSSIP.mkv"
     ]
    },
    {
     "name": "stdout",
     "output_type": "stream",
     "text": [
      "patool: ... /mnt/Media/Torrents/completed/tv/What.We.Do.in.the.Shadows.S03E09.1080p.WEB.h264-GOSSIP/what.we.do.in.the.shadows.s03e09.1080p.web.h264-gossip.rar extracted to `/mnt/Media/Torrents/completed/tv/What.We.Do.in.the.Shadows.S03E09.1080p.WEB.h264-GOSSIP'.\n",
      "End of extraction\n",
      "Extracting file /mnt/Media/Torrents/completed/tv/What.We.Do.in.the.Shadows.S03E10.1080p.WEB.h264-GOSSIP/what.we.do.in.the.shadows.s03e10.1080p.web.h264-gossip.rar\n",
      "patool: Extracting /mnt/Media/Torrents/completed/tv/What.We.Do.in.the.Shadows.S03E10.1080p.WEB.h264-GOSSIP/what.we.do.in.the.shadows.s03e10.1080p.web.h264-gossip.rar ...\n",
      "patool: running /usr/bin/rar x -- /mnt/Media/Torrents/completed/tv/What.We.Do.in.the.Shadows.S03E10.1080p.WEB.h264-GOSSIP/what.we.do.in.the.shadows.s03e10.1080p.web.h264-gossip.rar\n",
      "patool:     with cwd='/mnt/Media/Torrents/completed/tv/What.We.Do.in.the.Shadows.S03E10.1080p.WEB.h264-GOSSIP'\n"
     ]
    },
    {
     "name": "stderr",
     "output_type": "stream",
     "text": [
      "\n",
      "WARNING: Cannot change attributes of What.We.Do.in.the.Shadows.S03E10.1080p.WEB.h264-GOSSIP.mkv"
     ]
    },
    {
     "name": "stdout",
     "output_type": "stream",
     "text": [
      "patool: ... /mnt/Media/Torrents/completed/tv/What.We.Do.in.the.Shadows.S03E10.1080p.WEB.h264-GOSSIP/what.we.do.in.the.shadows.s03e10.1080p.web.h264-gossip.rar extracted to `/mnt/Media/Torrents/completed/tv/What.We.Do.in.the.Shadows.S03E10.1080p.WEB.h264-GOSSIP'.\n",
      "End of extraction\n",
      "Extracting file /mnt/Media/Torrents/completed/tv/What.We.Do.in.the.Shadows.S04E01.1080p.WEB.H264-PLZPROPER/what.we.do.in.the.shadows.s04e01.1080p.web.h264-plzproper.rar\n",
      "patool: Extracting /mnt/Media/Torrents/completed/tv/What.We.Do.in.the.Shadows.S04E01.1080p.WEB.H264-PLZPROPER/what.we.do.in.the.shadows.s04e01.1080p.web.h264-plzproper.rar ...\n",
      "patool: running /usr/bin/rar x -- /mnt/Media/Torrents/completed/tv/What.We.Do.in.the.Shadows.S04E01.1080p.WEB.H264-PLZPROPER/what.we.do.in.the.shadows.s04e01.1080p.web.h264-plzproper.rar\n",
      "patool:     with cwd='/mnt/Media/Torrents/completed/tv/What.We.Do.in.the.Shadows.S04E01.1080p.WEB.H264-PLZPROPER'\n"
     ]
    },
    {
     "name": "stderr",
     "output_type": "stream",
     "text": [
      "\n",
      "WARNING: Cannot change attributes of what.we.do.in.the.shadows.s04e01.1080p.web.h264-plzproper.mkv"
     ]
    },
    {
     "name": "stdout",
     "output_type": "stream",
     "text": [
      "patool: ... /mnt/Media/Torrents/completed/tv/What.We.Do.in.the.Shadows.S04E01.1080p.WEB.H264-PLZPROPER/what.we.do.in.the.shadows.s04e01.1080p.web.h264-plzproper.rar extracted to `/mnt/Media/Torrents/completed/tv/What.We.Do.in.the.Shadows.S04E01.1080p.WEB.H264-PLZPROPER'.\n",
      "End of extraction\n",
      "Extracting file /mnt/Media/Torrents/completed/tv/What.We.Do.in.the.Shadows.S04E02.1080p.WEB.H264-PLZPROPER/what.we.do.in.the.shadows.s04e02.1080p.web.h264-plzproper.rar\n",
      "patool: Extracting /mnt/Media/Torrents/completed/tv/What.We.Do.in.the.Shadows.S04E02.1080p.WEB.H264-PLZPROPER/what.we.do.in.the.shadows.s04e02.1080p.web.h264-plzproper.rar ...\n",
      "patool: running /usr/bin/rar x -- /mnt/Media/Torrents/completed/tv/What.We.Do.in.the.Shadows.S04E02.1080p.WEB.H264-PLZPROPER/what.we.do.in.the.shadows.s04e02.1080p.web.h264-plzproper.rar\n",
      "patool:     with cwd='/mnt/Media/Torrents/completed/tv/What.We.Do.in.the.Shadows.S04E02.1080p.WEB.H264-PLZPROPER'\n"
     ]
    },
    {
     "name": "stderr",
     "output_type": "stream",
     "text": [
      "\n",
      "WARNING: Cannot change attributes of what.we.do.in.the.shadows.s04e02.1080p.web.h264-plzproper.mkv"
     ]
    },
    {
     "name": "stdout",
     "output_type": "stream",
     "text": [
      "patool: ... /mnt/Media/Torrents/completed/tv/What.We.Do.in.the.Shadows.S04E02.1080p.WEB.H264-PLZPROPER/what.we.do.in.the.shadows.s04e02.1080p.web.h264-plzproper.rar extracted to `/mnt/Media/Torrents/completed/tv/What.We.Do.in.the.Shadows.S04E02.1080p.WEB.H264-PLZPROPER'.\n",
      "End of extraction\n",
      "Extracting file /mnt/Media/Torrents/completed/tv/What.We.Do.in.the.Shadows.S04E03.1080p.WEB.H264-PLZPROPER/what.we.do.in.the.shadows.s04e03.1080p.web.h264-plzproper.rar\n",
      "patool: Extracting /mnt/Media/Torrents/completed/tv/What.We.Do.in.the.Shadows.S04E03.1080p.WEB.H264-PLZPROPER/what.we.do.in.the.shadows.s04e03.1080p.web.h264-plzproper.rar ...\n",
      "patool: running /usr/bin/rar x -- /mnt/Media/Torrents/completed/tv/What.We.Do.in.the.Shadows.S04E03.1080p.WEB.H264-PLZPROPER/what.we.do.in.the.shadows.s04e03.1080p.web.h264-plzproper.rar\n",
      "patool:     with cwd='/mnt/Media/Torrents/completed/tv/What.We.Do.in.the.Shadows.S04E03.1080p.WEB.H264-PLZPROPER'\n"
     ]
    },
    {
     "name": "stderr",
     "output_type": "stream",
     "text": [
      "\n",
      "WARNING: Cannot change attributes of what.we.do.in.the.shadows.s04e03.1080p.web.h264-plzproper.mkv"
     ]
    },
    {
     "name": "stdout",
     "output_type": "stream",
     "text": [
      "patool: ... /mnt/Media/Torrents/completed/tv/What.We.Do.in.the.Shadows.S04E03.1080p.WEB.H264-PLZPROPER/what.we.do.in.the.shadows.s04e03.1080p.web.h264-plzproper.rar extracted to `/mnt/Media/Torrents/completed/tv/What.We.Do.in.the.Shadows.S04E03.1080p.WEB.H264-PLZPROPER'.\n",
      "End of extraction\n",
      "Extracting file /mnt/Media/Torrents/completed/tv/What.We.Do.in.the.Shadows.S04E04.1080p.WEB.H264-GLHF/what.we.do.in.the.shadows.s04e04.1080p.web.h264-glhf.rar\n",
      "patool: Extracting /mnt/Media/Torrents/completed/tv/What.We.Do.in.the.Shadows.S04E04.1080p.WEB.H264-GLHF/what.we.do.in.the.shadows.s04e04.1080p.web.h264-glhf.rar ...\n",
      "patool: running /usr/bin/rar x -- /mnt/Media/Torrents/completed/tv/What.We.Do.in.the.Shadows.S04E04.1080p.WEB.H264-GLHF/what.we.do.in.the.shadows.s04e04.1080p.web.h264-glhf.rar\n",
      "patool:     with cwd='/mnt/Media/Torrents/completed/tv/What.We.Do.in.the.Shadows.S04E04.1080p.WEB.H264-GLHF'\n"
     ]
    },
    {
     "name": "stderr",
     "output_type": "stream",
     "text": [
      "\n",
      "WARNING: Cannot change attributes of what.we.do.in.the.shadows.s04e04.1080p.web.h264-glhf.mkv"
     ]
    },
    {
     "name": "stdout",
     "output_type": "stream",
     "text": [
      "patool: ... /mnt/Media/Torrents/completed/tv/What.We.Do.in.the.Shadows.S04E04.1080p.WEB.H264-GLHF/what.we.do.in.the.shadows.s04e04.1080p.web.h264-glhf.rar extracted to `/mnt/Media/Torrents/completed/tv/What.We.Do.in.the.Shadows.S04E04.1080p.WEB.H264-GLHF'.\n",
      "End of extraction\n",
      "Extracting file /mnt/Media/Torrents/completed/tv/What.We.Do.in.the.Shadows.S04E05.1080p.WEB.H264-PLZPROPER/what.we.do.in.the.shadows.s04e05.1080p.web.h264-plzproper.rar\n",
      "patool: Extracting /mnt/Media/Torrents/completed/tv/What.We.Do.in.the.Shadows.S04E05.1080p.WEB.H264-PLZPROPER/what.we.do.in.the.shadows.s04e05.1080p.web.h264-plzproper.rar ...\n",
      "patool: running /usr/bin/rar x -- /mnt/Media/Torrents/completed/tv/What.We.Do.in.the.Shadows.S04E05.1080p.WEB.H264-PLZPROPER/what.we.do.in.the.shadows.s04e05.1080p.web.h264-plzproper.rar\n",
      "patool:     with cwd='/mnt/Media/Torrents/completed/tv/What.We.Do.in.the.Shadows.S04E05.1080p.WEB.H264-PLZPROPER'\n"
     ]
    },
    {
     "name": "stderr",
     "output_type": "stream",
     "text": [
      "\n",
      "WARNING: Cannot change attributes of what.we.do.in.the.shadows.s04e05.1080p.web.h264-plzproper.mkv"
     ]
    },
    {
     "name": "stdout",
     "output_type": "stream",
     "text": [
      "patool: ... /mnt/Media/Torrents/completed/tv/What.We.Do.in.the.Shadows.S04E05.1080p.WEB.H264-PLZPROPER/what.we.do.in.the.shadows.s04e05.1080p.web.h264-plzproper.rar extracted to `/mnt/Media/Torrents/completed/tv/What.We.Do.in.the.Shadows.S04E05.1080p.WEB.H264-PLZPROPER'.\n",
      "End of extraction\n",
      "Extracting file /mnt/Media/Torrents/completed/tv/What.We.Do.in.the.Shadows.S04E07.PROPER.1080p.WEB.h264-KOGi/what.we.do.in.the.shadows.s04e07.proper.1080p.web.h264-kogi.rar\n",
      "patool: Extracting /mnt/Media/Torrents/completed/tv/What.We.Do.in.the.Shadows.S04E07.PROPER.1080p.WEB.h264-KOGi/what.we.do.in.the.shadows.s04e07.proper.1080p.web.h264-kogi.rar ...\n",
      "patool: running /usr/bin/rar x -- /mnt/Media/Torrents/completed/tv/What.We.Do.in.the.Shadows.S04E07.PROPER.1080p.WEB.h264-KOGi/what.we.do.in.the.shadows.s04e07.proper.1080p.web.h264-kogi.rar\n",
      "patool:     with cwd='/mnt/Media/Torrents/completed/tv/What.We.Do.in.the.Shadows.S04E07.PROPER.1080p.WEB.h264-KOGi'\n"
     ]
    },
    {
     "name": "stderr",
     "output_type": "stream",
     "text": [
      "\n",
      "WARNING: Cannot change attributes of What.We.Do.in.the.Shadows.S04E07.PROPER.1080p.WEB.h264-KOGi.mkv"
     ]
    },
    {
     "name": "stdout",
     "output_type": "stream",
     "text": [
      "patool: ... /mnt/Media/Torrents/completed/tv/What.We.Do.in.the.Shadows.S04E07.PROPER.1080p.WEB.h264-KOGi/what.we.do.in.the.shadows.s04e07.proper.1080p.web.h264-kogi.rar extracted to `/mnt/Media/Torrents/completed/tv/What.We.Do.in.the.Shadows.S04E07.PROPER.1080p.WEB.h264-KOGi'.\n",
      "End of extraction\n",
      "Extracting file /mnt/Media/Torrents/completed/tv/What.We.Do.in.the.Shadows.S04E08.1080p.WEB.h264-KOGi/what.we.do.in.the.shadows.s04e08.1080p.web.h264-kogi.rar\n",
      "patool: Extracting /mnt/Media/Torrents/completed/tv/What.We.Do.in.the.Shadows.S04E08.1080p.WEB.h264-KOGi/what.we.do.in.the.shadows.s04e08.1080p.web.h264-kogi.rar ...\n",
      "patool: running /usr/bin/rar x -- /mnt/Media/Torrents/completed/tv/What.We.Do.in.the.Shadows.S04E08.1080p.WEB.h264-KOGi/what.we.do.in.the.shadows.s04e08.1080p.web.h264-kogi.rar\n",
      "patool:     with cwd='/mnt/Media/Torrents/completed/tv/What.We.Do.in.the.Shadows.S04E08.1080p.WEB.h264-KOGi'\n"
     ]
    },
    {
     "name": "stderr",
     "output_type": "stream",
     "text": [
      "\n",
      "WARNING: Cannot change attributes of What.We.Do.in.the.Shadows.S04E08.1080p.WEB.h264-KOGi.mkv"
     ]
    },
    {
     "name": "stdout",
     "output_type": "stream",
     "text": [
      "patool: ... /mnt/Media/Torrents/completed/tv/What.We.Do.in.the.Shadows.S04E08.1080p.WEB.h264-KOGi/what.we.do.in.the.shadows.s04e08.1080p.web.h264-kogi.rar extracted to `/mnt/Media/Torrents/completed/tv/What.We.Do.in.the.Shadows.S04E08.1080p.WEB.h264-KOGi'.\n",
      "End of extraction\n"
     ]
    }
   ],
   "source": [
    "# iterate through each row and select\n",
    "# 'Name' and 'Stream' column respectively.\n",
    "# mediaDF_rar = mediaDF_rar.head(10)\n",
    "\n",
    "for ind in mediaDF_rar.index:\n",
    "    file = mediaDF_rar['parentFolder'][ind] + '/' + mediaDF_rar['fileName'][ind]\n",
    "    print(\"Extracting file \" + mediaDF_rar['parentFolder'][ind] + '/' + mediaDF_rar['fileName'][ind])\n",
    "    ptl.extract_archive(file, outdir=mediaDF_rar['parentFolder'][ind])\n",
    "    print(\"End of extraction\")\n",
    "    # print(mediaDF_rar['parentFolder'][ind], mediaDF_rar['fileName'][ind])"
   ]
  },
  {
   "cell_type": "markdown",
   "metadata": {},
   "source": [
    "### Rename DBZ"
   ]
  },
  {
   "cell_type": "code",
   "execution_count": 40,
   "metadata": {},
   "outputs": [
    {
     "name": "stderr",
     "output_type": "stream",
     "text": [
      "/tmp/ipykernel_4179299/228129899.py:24: FutureWarning: The frame.append method is deprecated and will be removed from pandas in a future version. Use pandas.concat instead.\n",
      "  mediaDF = mediaDF.append(mediaList,ignore_index=True)\n"
     ]
    }
   ],
   "source": [
    "# import pandas as pd\n",
    "# import os\n",
    "# import patoolib as ptl\n",
    "\n",
    "\n",
    "# mediaPath = '/mnt/Downloads/Marcus/unrar/'\n",
    "# mediaType = 2 #input(\"Qual tipo de media deseja analisar?\\n1. TV \\n2. Files\")\n",
    "# mediaDF = pd.DataFrame()\n",
    "# mediaDict = {}\n",
    "# mediaList = [['0','0','0']]\n",
    "# c = 1\n",
    "\n",
    "\n",
    "# for root, directories, files in os.walk(mediaPath, topdown=False):\n",
    "#     for name in files:\n",
    "#         if name.endswith('.mkv') == True: \n",
    "#             flg = 1 \n",
    "#         else:\n",
    "#             flg = 0\n",
    "#         mediaList.insert(c,[root, name, flg])\n",
    "#         c = c + 1\n",
    "\n",
    "\n",
    "# mediaDF = mediaDF.append(mediaList,ignore_index=True)      \n",
    "# mediaDF.columns = ['parentFolder', 'fileName', 'flgDelete']\n",
    "\n",
    "# # mediaDF_rar = mediaDF[mediaDF[\"fileName\"].str.lower().str.endswith('.rar')]\n",
    "# # mediaDF_r00 = mediaDF[mediaDF[\"fileName\"].str.lower().str.endswith('.r00')]\n",
    "# # mediaFlg = mediaDF[mediaDF.flgDelete.eq(1)]\n",
    "# # mediaDF = mediaDF[~mediaDF.parentFolder.isin(mediaFlg.parentFolder)]\n",
    "# # mediaDF_rar = mediaDF[mediaDF[\"fileName\"].str.lower().str.endswith('.rar')].sort_values(by=['fileName'])\n",
    "# # mediaDF_rar.to_csv('/mnt/Media/media.csv')\n",
    "# mediaDF.to_csv('/mnt/Media/media.csv')\n",
    "# #mediaDF.head(100)\n",
    "\n",
    "        "
   ]
  },
  {
   "cell_type": "code",
   "execution_count": 41,
   "metadata": {},
   "outputs": [],
   "source": [
    "# # iterate through each row and select\n",
    "# # 'Name' and 'Stream' column respectively.\n",
    "# mediaDF = mediaDF.head(50)\n",
    "# mediaDF = mediaDF.drop([0])\n",
    "\n",
    "# for ind in mediaDF.index:\n",
    "    \n",
    "#     dst = mediaDF['fileName'][ind]\n",
    "#     dst = dst.replace(\"[GOGL] \", \"\")\n",
    "#     dst = dst.replace(\" (Dublado)\", \"\")\n",
    "\n",
    "#     file = mediaDF['parentFolder'][ind] + '/' + mediaDF['fileName'][ind]\n",
    "#     file_dest = mediaDF['parentFolder'][ind] + '/' + dst\n",
    "#     os.rename(file, file_dest)\n",
    "    \n",
    "#     # print(mediaDF_rar['parentFolder'][ind], mediaDF_rar['fileName'][ind])"
   ]
  },
  {
   "cell_type": "code",
   "execution_count": 37,
   "metadata": {},
   "outputs": [
    {
     "name": "stdout",
     "output_type": "stream",
     "text": [
      "patool: Extracting /mnt/Downloads/Marcus/unrar//[GOGL] DBS - 36 HD (Dublado).rar ...\n",
      "patool: running /usr/bin/rar x -- \"/mnt/Downloads/Marcus/unrar/[GOGL] DBS - 36 HD (Dublado).rar\"\n",
      "patool:     with cwd='/mnt/Downloads/Marcus/unrar/'\n"
     ]
    },
    {
     "name": "stderr",
     "output_type": "stream",
     "text": [
      "\n",
      "WARNING: Cannot change attributes of [GOGL] Dragon Ball Super - 36 (Dublado).mkv"
     ]
    },
    {
     "name": "stdout",
     "output_type": "stream",
     "text": [
      "patool: ... /mnt/Downloads/Marcus/unrar//[GOGL] DBS - 36 HD (Dublado).rar extracted to `/mnt/Downloads/Marcus/unrar/'.\n",
      "patool: Extracting /mnt/Downloads/Marcus/unrar//[GOGL] DBS - 39 HD (Dublado).rar ...\n",
      "patool: running /usr/bin/rar x -- \"/mnt/Downloads/Marcus/unrar/[GOGL] DBS - 39 HD (Dublado).rar\"\n",
      "patool:     with cwd='/mnt/Downloads/Marcus/unrar/'\n"
     ]
    },
    {
     "name": "stderr",
     "output_type": "stream",
     "text": [
      "\n",
      "WARNING: Cannot change attributes of [GOGL] Dragon Ball Super - 39 (Dublado).mkv"
     ]
    },
    {
     "name": "stdout",
     "output_type": "stream",
     "text": [
      "patool: ... /mnt/Downloads/Marcus/unrar//[GOGL] DBS - 39 HD (Dublado).rar extracted to `/mnt/Downloads/Marcus/unrar/'.\n",
      "patool: Extracting /mnt/Downloads/Marcus/unrar//[GOGL] DBS - 42 HD (Dublado).rar ...\n",
      "patool: running /usr/bin/rar x -- \"/mnt/Downloads/Marcus/unrar/[GOGL] DBS - 42 HD (Dublado).rar\"\n",
      "patool:     with cwd='/mnt/Downloads/Marcus/unrar/'\n"
     ]
    },
    {
     "name": "stderr",
     "output_type": "stream",
     "text": [
      "\n",
      "WARNING: Cannot change attributes of [GOGL] Dragon Ball Super - 42 (Dublado).mkv"
     ]
    },
    {
     "name": "stdout",
     "output_type": "stream",
     "text": [
      "patool: ... /mnt/Downloads/Marcus/unrar//[GOGL] DBS - 42 HD (Dublado).rar extracted to `/mnt/Downloads/Marcus/unrar/'.\n",
      "patool: Extracting /mnt/Downloads/Marcus/unrar//[GOGL] DBS - 46 HD (Dublado).rar ...\n",
      "patool: running /usr/bin/rar x -- \"/mnt/Downloads/Marcus/unrar/[GOGL] DBS - 46 HD (Dublado).rar\"\n",
      "patool:     with cwd='/mnt/Downloads/Marcus/unrar/'\n",
      "patool: ... /mnt/Downloads/Marcus/unrar//[GOGL] DBS - 46 HD (Dublado).rar extracted to `/mnt/Downloads/Marcus/unrar/'.\n"
     ]
    },
    {
     "name": "stderr",
     "output_type": "stream",
     "text": [
      "\n",
      "WARNING: Cannot change attributes of [GOGL] Dragon Ball Super - 46 (Dublado).mkv"
     ]
    }
   ],
   "source": [
    "# # iterate through each row and select\n",
    "# # 'Name' and 'Stream' column respectively.\n",
    "# mediaDF_rar = mediaDF_rar.head(50)\n",
    "\n",
    "# for ind in mediaDF_rar.index:    \n",
    "#     file = mediaDF_rar['parentFolder'][ind] + '/' + mediaDF_rar['fileName'][ind]\n",
    "#     ptl.extract_archive(file, outdir=mediaDF_rar['parentFolder'][ind])\n",
    "#     # print(mediaDF_rar['parentFolder'][ind], mediaDF_rar['fileName'][ind])"
   ]
  },
  {
   "cell_type": "code",
   "execution_count": null,
   "metadata": {},
   "outputs": [],
   "source": []
  }
 ],
 "metadata": {
  "kernelspec": {
   "display_name": "Python 3 (ipykernel)",
   "language": "python",
   "name": "python3"
  },
  "language_info": {
   "codemirror_mode": {
    "name": "ipython",
    "version": 3
   },
   "file_extension": ".py",
   "mimetype": "text/x-python",
   "name": "python",
   "nbconvert_exporter": "python",
   "pygments_lexer": "ipython3",
   "version": "3.9.12"
  },
  "vscode": {
   "interpreter": {
    "hash": "92b0a270636e524287e67f62d28a7b844134b51ac94af6b763e1ad25f060bbe0"
   }
  }
 },
 "nbformat": 4,
 "nbformat_minor": 2
}
