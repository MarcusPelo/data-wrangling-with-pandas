{
 "cells": [
  {
   "cell_type": "code",
   "execution_count": 1,
   "metadata": {},
   "outputs": [
    {
     "name": "stderr",
     "output_type": "stream",
     "text": [
      "/tmp/ipykernel_587267/3932138312.py:26: FutureWarning: The frame.append method is deprecated and will be removed from pandas in a future version. Use pandas.concat instead.\n",
      "  mediaDF = mediaDF.append(mediaList,ignore_index=True)\n"
     ]
    }
   ],
   "source": [
    "import pandas as pd\n",
    "import os\n",
    "import patoolib as ptl\n",
    "\n",
    "\n",
    "mediaPath = '/mnt/Media/Torrents/completed/'\n",
    "mediaType = 2 #input(\"Qual tipo de media deseja analisar?\\n1. TV \\n2. Files\")\n",
    "mediaDF = pd.DataFrame()\n",
    "mediaDict = {}\n",
    "mediaList = [['0','0','0']]\n",
    "c = 1\n",
    "\n",
    "if int(mediaType) == 2:\n",
    "    mediaPath = mediaPath + \"tv\"\n",
    "\n",
    "    for root, directories, files in os.walk(mediaPath, topdown=False):\n",
    "        for name in files:\n",
    "            if name.endswith('.mkv') == True: \n",
    "                flg = 1 \n",
    "            else:\n",
    "                flg = 0\n",
    "            mediaList.insert(c,[root, name, flg])\n",
    "            c = c + 1\n",
    "\n",
    "\n",
    "mediaDF = mediaDF.append(mediaList,ignore_index=True)      \n",
    "mediaDF.columns = ['parentFolder', 'fileName', 'flgDelete']\n",
    "\n",
    "mediaDF_rar = mediaDF[mediaDF[\"fileName\"].str.lower().str.endswith('.rar')]\n",
    "mediaDF_r00 = mediaDF[mediaDF[\"fileName\"].str.lower().str.endswith('.r00')]\n",
    "mediaFlg = mediaDF[mediaDF.flgDelete.eq(1)]\n",
    "mediaDop = mediaDF[mediaDF.parentFolder.str.contains('Dopesick', case=False)]\n",
    "mediaScr = mediaDF[mediaDF.parentFolder.str.contains('scrubs', case=False)]\n",
    "mediaDF = mediaDF[~mediaDF.parentFolder.isin(mediaFlg.parentFolder)]\n",
    "mediaDF = mediaDF[~mediaDF.parentFolder.isin(mediaDop.parentFolder)]\n",
    "mediaDF = mediaDF[~mediaDF.parentFolder.isin(mediaScr.parentFolder)]\n",
    "\n",
    "mediaDF_rar = mediaDF[mediaDF[\"fileName\"].str.lower().str.endswith('.rar')].sort_values(by=['parentFolder'])\n",
    "mediaDF_rar.to_csv('/mnt/Media/media.csv')\n",
    "\n",
    "\n",
    "\n",
    "#mediaDF.head(100)\n",
    "        "
   ]
  },
  {
   "cell_type": "code",
   "execution_count": null,
   "metadata": {},
   "outputs": [],
   "source": [
    "# iterate through each row and select\n",
    "# 'Name' and 'Stream' column respectively.\n",
    "# mediaDF_rar = mediaDF_rar.head(10)\n",
    "\n",
    "for ind in mediaDF_rar.index:\n",
    "    file = mediaDF_rar['parentFolder'][ind] + '/' + mediaDF_rar['fileName'][ind]\n",
    "    print(\"Extracting file \" + mediaDF_rar['parentFolder'][ind] + '/' + mediaDF_rar['fileName'][ind])\n",
    "    ptl.extract_archive(file, outdir=mediaDF_rar['parentFolder'][ind])\n",
    "    print(\"End of extraction\")\n",
    "    # print(mediaDF_rar['parentFolder'][ind], mediaDF_rar['fileName'][ind])"
   ]
  },
  {
   "cell_type": "markdown",
   "metadata": {},
   "source": [
    "### Rename DBZ"
   ]
  },
  {
   "cell_type": "code",
   "execution_count": null,
   "metadata": {},
   "outputs": [],
   "source": [
    "# import pandas as pd\n",
    "# import os\n",
    "# import patoolib as ptl\n",
    "\n",
    "\n",
    "# mediaPath = '/mnt/Downloads/Marcus/unrar/'\n",
    "# mediaType = 2 #input(\"Qual tipo de media deseja analisar?\\n1. TV \\n2. Files\")\n",
    "# mediaDF = pd.DataFrame()\n",
    "# mediaDict = {}\n",
    "# mediaList = [['0','0','0']]\n",
    "# c = 1\n",
    "\n",
    "\n",
    "# for root, directories, files in os.walk(mediaPath, topdown=False):\n",
    "#     for name in files:\n",
    "#         if name.endswith('.mkv') == True: \n",
    "#             flg = 1 \n",
    "#         else:\n",
    "#             flg = 0\n",
    "#         mediaList.insert(c,[root, name, flg])\n",
    "#         c = c + 1\n",
    "\n",
    "\n",
    "# mediaDF = mediaDF.append(mediaList,ignore_index=True)      \n",
    "# mediaDF.columns = ['parentFolder', 'fileName', 'flgDelete']\n",
    "\n",
    "# # mediaDF_rar = mediaDF[mediaDF[\"fileName\"].str.lower().str.endswith('.rar')]\n",
    "# # mediaDF_r00 = mediaDF[mediaDF[\"fileName\"].str.lower().str.endswith('.r00')]\n",
    "# # mediaFlg = mediaDF[mediaDF.flgDelete.eq(1)]\n",
    "# # mediaDF = mediaDF[~mediaDF.parentFolder.isin(mediaFlg.parentFolder)]\n",
    "# # mediaDF_rar = mediaDF[mediaDF[\"fileName\"].str.lower().str.endswith('.rar')].sort_values(by=['fileName'])\n",
    "# # mediaDF_rar.to_csv('/mnt/Media/media.csv')\n",
    "# mediaDF.to_csv('/mnt/Media/media.csv')\n",
    "# #mediaDF.head(100)\n",
    "\n",
    "        "
   ]
  },
  {
   "cell_type": "code",
   "execution_count": null,
   "metadata": {},
   "outputs": [],
   "source": [
    "# # iterate through each row and select\n",
    "# # 'Name' and 'Stream' column respectively.\n",
    "# mediaDF = mediaDF.head(50)\n",
    "# mediaDF = mediaDF.drop([0])\n",
    "\n",
    "# for ind in mediaDF.index:\n",
    "    \n",
    "#     dst = mediaDF['fileName'][ind]\n",
    "#     dst = dst.replace(\"[GOGL] \", \"\")\n",
    "#     dst = dst.replace(\" (Dublado)\", \"\")\n",
    "\n",
    "#     file = mediaDF['parentFolder'][ind] + '/' + mediaDF['fileName'][ind]\n",
    "#     file_dest = mediaDF['parentFolder'][ind] + '/' + dst\n",
    "#     os.rename(file, file_dest)\n",
    "    \n",
    "#     # print(mediaDF_rar['parentFolder'][ind], mediaDF_rar['fileName'][ind])"
   ]
  },
  {
   "cell_type": "code",
   "execution_count": null,
   "metadata": {},
   "outputs": [],
   "source": [
    "# # iterate through each row and select\n",
    "# # 'Name' and 'Stream' column respectively.\n",
    "# mediaDF_rar = mediaDF_rar.head(50)\n",
    "\n",
    "# for ind in mediaDF_rar.index:    \n",
    "#     file = mediaDF_rar['parentFolder'][ind] + '/' + mediaDF_rar['fileName'][ind]\n",
    "#     ptl.extract_archive(file, outdir=mediaDF_rar['parentFolder'][ind])\n",
    "#     # print(mediaDF_rar['parentFolder'][ind], mediaDF_rar['fileName'][ind])"
   ]
  },
  {
   "cell_type": "code",
   "execution_count": null,
   "metadata": {},
   "outputs": [],
   "source": []
  }
 ],
 "metadata": {
  "kernelspec": {
   "display_name": "Python 3 (ipykernel)",
   "language": "python",
   "name": "python3"
  },
  "language_info": {
   "codemirror_mode": {
    "name": "ipython",
    "version": 3
   },
   "file_extension": ".py",
   "mimetype": "text/x-python",
   "name": "python",
   "nbconvert_exporter": "python",
   "pygments_lexer": "ipython3",
   "version": "3.9.12"
  },
  "vscode": {
   "interpreter": {
    "hash": "92b0a270636e524287e67f62d28a7b844134b51ac94af6b763e1ad25f060bbe0"
   }
  }
 },
 "nbformat": 4,
 "nbformat_minor": 2
}
